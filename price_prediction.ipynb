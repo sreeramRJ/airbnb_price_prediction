{
 "cells": [
  {
   "cell_type": "code",
   "execution_count": 1,
   "metadata": {},
   "outputs": [],
   "source": [
    "import pandas as pd\n",
    "import numpy as np"
   ]
  },
  {
   "cell_type": "code",
   "execution_count": 2,
   "metadata": {},
   "outputs": [],
   "source": [
    "import warnings\n",
    "import sklearn.exceptions\n",
    "warnings.filterwarnings(\"ignore\", category=sklearn.exceptions.ConvergenceWarning)\n",
    "warnings.filterwarnings(\"ignore\", category=DeprecationWarning)\n",
    "warnings.filterwarnings(\"ignore\", category=FutureWarning)"
   ]
  },
  {
   "cell_type": "raw",
   "metadata": {},
   "source": [
    "#needed for reading parquet file\n",
    "%pip install pyarrow"
   ]
  },
  {
   "cell_type": "code",
   "execution_count": 3,
   "metadata": {},
   "outputs": [],
   "source": [
    "data = pd.read_parquet(\"listings_processed.parquet\")"
   ]
  },
  {
   "cell_type": "markdown",
   "metadata": {},
   "source": [
    "# Data Exploration and Cleaning"
   ]
  },
  {
   "cell_type": "code",
   "execution_count": 4,
   "metadata": {},
   "outputs": [
    {
     "data": {
      "text/html": [
       "<div>\n",
       "<style scoped>\n",
       "    .dataframe tbody tr th:only-of-type {\n",
       "        vertical-align: middle;\n",
       "    }\n",
       "\n",
       "    .dataframe tbody tr th {\n",
       "        vertical-align: top;\n",
       "    }\n",
       "\n",
       "    .dataframe thead th {\n",
       "        text-align: right;\n",
       "    }\n",
       "</style>\n",
       "<table border=\"1\" class=\"dataframe\">\n",
       "  <thead>\n",
       "    <tr style=\"text-align: right;\">\n",
       "      <th></th>\n",
       "      <th>id</th>\n",
       "      <th>listing_url</th>\n",
       "      <th>host_id</th>\n",
       "      <th>host_since</th>\n",
       "      <th>host_response_time</th>\n",
       "      <th>host_response_rate</th>\n",
       "      <th>host_is_superhost</th>\n",
       "      <th>host_listings_count</th>\n",
       "      <th>host_total_listings_count</th>\n",
       "      <th>host_has_profile_pic</th>\n",
       "      <th>...</th>\n",
       "      <th>verification_phone</th>\n",
       "      <th>verification_email</th>\n",
       "      <th>verification_reviews</th>\n",
       "      <th>verification_jumio</th>\n",
       "      <th>verification_facebook</th>\n",
       "      <th>verification_government_id</th>\n",
       "      <th>verification_offline_government_id</th>\n",
       "      <th>verification_selfie</th>\n",
       "      <th>verification_identity_manual</th>\n",
       "      <th>verification_work_email</th>\n",
       "    </tr>\n",
       "  </thead>\n",
       "  <tbody>\n",
       "    <tr>\n",
       "      <th>0</th>\n",
       "      <td>2818</td>\n",
       "      <td>https://www.airbnb.com/rooms/2818</td>\n",
       "      <td>3159</td>\n",
       "      <td>14146.0</td>\n",
       "      <td>within an hour</td>\n",
       "      <td>1.0</td>\n",
       "      <td>True</td>\n",
       "      <td>1.0</td>\n",
       "      <td>1.0</td>\n",
       "      <td>True</td>\n",
       "      <td>...</td>\n",
       "      <td>True</td>\n",
       "      <td>True</td>\n",
       "      <td>True</td>\n",
       "      <td>False</td>\n",
       "      <td>False</td>\n",
       "      <td>False</td>\n",
       "      <td>False</td>\n",
       "      <td>False</td>\n",
       "      <td>False</td>\n",
       "      <td>False</td>\n",
       "    </tr>\n",
       "    <tr>\n",
       "      <th>1</th>\n",
       "      <td>3209</td>\n",
       "      <td>https://www.airbnb.com/rooms/3209</td>\n",
       "      <td>3806</td>\n",
       "      <td>14176.0</td>\n",
       "      <td>within an hour</td>\n",
       "      <td>1.0</td>\n",
       "      <td>False</td>\n",
       "      <td>1.0</td>\n",
       "      <td>1.0</td>\n",
       "      <td>True</td>\n",
       "      <td>...</td>\n",
       "      <td>True</td>\n",
       "      <td>True</td>\n",
       "      <td>True</td>\n",
       "      <td>True</td>\n",
       "      <td>False</td>\n",
       "      <td>False</td>\n",
       "      <td>False</td>\n",
       "      <td>False</td>\n",
       "      <td>False</td>\n",
       "      <td>False</td>\n",
       "    </tr>\n",
       "    <tr>\n",
       "      <th>2</th>\n",
       "      <td>20168</td>\n",
       "      <td>https://www.airbnb.com/rooms/20168</td>\n",
       "      <td>59484</td>\n",
       "      <td>14580.0</td>\n",
       "      <td>within a few hours</td>\n",
       "      <td>1.0</td>\n",
       "      <td>False</td>\n",
       "      <td>2.0</td>\n",
       "      <td>2.0</td>\n",
       "      <td>True</td>\n",
       "      <td>...</td>\n",
       "      <td>True</td>\n",
       "      <td>True</td>\n",
       "      <td>True</td>\n",
       "      <td>False</td>\n",
       "      <td>False</td>\n",
       "      <td>False</td>\n",
       "      <td>False</td>\n",
       "      <td>False</td>\n",
       "      <td>False</td>\n",
       "      <td>False</td>\n",
       "    </tr>\n",
       "    <tr>\n",
       "      <th>3</th>\n",
       "      <td>25428</td>\n",
       "      <td>https://www.airbnb.com/rooms/25428</td>\n",
       "      <td>56142</td>\n",
       "      <td>14568.0</td>\n",
       "      <td>within a few hours</td>\n",
       "      <td>1.0</td>\n",
       "      <td>False</td>\n",
       "      <td>2.0</td>\n",
       "      <td>2.0</td>\n",
       "      <td>True</td>\n",
       "      <td>...</td>\n",
       "      <td>True</td>\n",
       "      <td>True</td>\n",
       "      <td>True</td>\n",
       "      <td>False</td>\n",
       "      <td>False</td>\n",
       "      <td>False</td>\n",
       "      <td>False</td>\n",
       "      <td>False</td>\n",
       "      <td>False</td>\n",
       "      <td>False</td>\n",
       "    </tr>\n",
       "    <tr>\n",
       "      <th>4</th>\n",
       "      <td>27886</td>\n",
       "      <td>https://www.airbnb.com/rooms/27886</td>\n",
       "      <td>97647</td>\n",
       "      <td>14691.0</td>\n",
       "      <td>within an hour</td>\n",
       "      <td>1.0</td>\n",
       "      <td>True</td>\n",
       "      <td>1.0</td>\n",
       "      <td>1.0</td>\n",
       "      <td>True</td>\n",
       "      <td>...</td>\n",
       "      <td>True</td>\n",
       "      <td>True</td>\n",
       "      <td>True</td>\n",
       "      <td>True</td>\n",
       "      <td>False</td>\n",
       "      <td>False</td>\n",
       "      <td>False</td>\n",
       "      <td>False</td>\n",
       "      <td>False</td>\n",
       "      <td>False</td>\n",
       "    </tr>\n",
       "  </tbody>\n",
       "</table>\n",
       "<p>5 rows × 84 columns</p>\n",
       "</div>"
      ],
      "text/plain": [
       "      id                         listing_url  host_id  host_since  \\\n",
       "0   2818   https://www.airbnb.com/rooms/2818     3159     14146.0   \n",
       "1   3209   https://www.airbnb.com/rooms/3209     3806     14176.0   \n",
       "2  20168  https://www.airbnb.com/rooms/20168    59484     14580.0   \n",
       "3  25428  https://www.airbnb.com/rooms/25428    56142     14568.0   \n",
       "4  27886  https://www.airbnb.com/rooms/27886    97647     14691.0   \n",
       "\n",
       "   host_response_time  host_response_rate host_is_superhost  \\\n",
       "0      within an hour                 1.0              True   \n",
       "1      within an hour                 1.0             False   \n",
       "2  within a few hours                 1.0             False   \n",
       "3  within a few hours                 1.0             False   \n",
       "4      within an hour                 1.0              True   \n",
       "\n",
       "   host_listings_count  host_total_listings_count host_has_profile_pic  ...  \\\n",
       "0                  1.0                        1.0                 True  ...   \n",
       "1                  1.0                        1.0                 True  ...   \n",
       "2                  2.0                        2.0                 True  ...   \n",
       "3                  2.0                        2.0                 True  ...   \n",
       "4                  1.0                        1.0                 True  ...   \n",
       "\n",
       "  verification_phone verification_email  verification_reviews  \\\n",
       "0               True               True                  True   \n",
       "1               True               True                  True   \n",
       "2               True               True                  True   \n",
       "3               True               True                  True   \n",
       "4               True               True                  True   \n",
       "\n",
       "  verification_jumio verification_facebook  verification_government_id  \\\n",
       "0              False                 False                       False   \n",
       "1               True                 False                       False   \n",
       "2              False                 False                       False   \n",
       "3              False                 False                       False   \n",
       "4               True                 False                       False   \n",
       "\n",
       "   verification_offline_government_id  verification_selfie  \\\n",
       "0                               False                False   \n",
       "1                               False                False   \n",
       "2                               False                False   \n",
       "3                               False                False   \n",
       "4                               False                False   \n",
       "\n",
       "   verification_identity_manual verification_work_email  \n",
       "0                         False                   False  \n",
       "1                         False                   False  \n",
       "2                         False                   False  \n",
       "3                         False                   False  \n",
       "4                         False                   False  \n",
       "\n",
       "[5 rows x 84 columns]"
      ]
     },
     "execution_count": 4,
     "metadata": {},
     "output_type": "execute_result"
    }
   ],
   "source": [
    "data.head()"
   ]
  },
  {
   "cell_type": "code",
   "execution_count": 5,
   "metadata": {},
   "outputs": [],
   "source": [
    "# removing columns that cannot be included in modelling\n",
    "data.drop(['listing_url','id','host_id'],axis=1,inplace=True)"
   ]
  },
  {
   "cell_type": "code",
   "execution_count": 6,
   "metadata": {},
   "outputs": [],
   "source": [
    "#check for null/nan and replace with 0\n",
    "data = data.replace(np.nan,0)"
   ]
  },
  {
   "cell_type": "code",
   "execution_count": 7,
   "metadata": {},
   "outputs": [],
   "source": [
    "# convert necessary columns to boolean \n",
    "data['host_is_superhost'] = data['host_is_superhost'].astype(bool)\n",
    "data['host_has_profile_pic'] = data['host_has_profile_pic'].astype(bool)\n",
    "data['host_identity_verified'] = data['host_identity_verified'].astype(bool)"
   ]
  },
  {
   "cell_type": "code",
   "execution_count": 8,
   "metadata": {},
   "outputs": [],
   "source": [
    "# list of differnt column types\n",
    "list_bool_columns = list(data.select_dtypes(include=['bool']).columns)\n",
    "list_category_columns = list(data.select_dtypes(include=['category']).columns)\n",
    "list_object_columns = list(data.select_dtypes(include=['object']).columns)"
   ]
  },
  {
   "cell_type": "code",
   "execution_count": 9,
   "metadata": {},
   "outputs": [
    {
     "data": {
      "text/plain": [
       "array(['within an hour', 'within a few hours', 'a few days or more', 0,\n",
       "       'within a day'], dtype=object)"
      ]
     },
     "execution_count": 9,
     "metadata": {},
     "output_type": "execute_result"
    }
   ],
   "source": [
    "data['host_response_time'].unique()"
   ]
  },
  {
   "cell_type": "code",
   "execution_count": 10,
   "metadata": {},
   "outputs": [],
   "source": [
    "# convert object columns to categories to do one-hot encoding\n",
    "data[list_object_columns] = data[list_object_columns].astype('category')"
   ]
  },
  {
   "cell_type": "code",
   "execution_count": 11,
   "metadata": {},
   "outputs": [],
   "source": [
    "# one-hot encoding\n",
    "data_with_dummies = pd.get_dummies(data=data,columns=list_object_columns)"
   ]
  },
  {
   "cell_type": "code",
   "execution_count": 12,
   "metadata": {},
   "outputs": [
    {
     "data": {
      "text/html": [
       "<div>\n",
       "<style scoped>\n",
       "    .dataframe tbody tr th:only-of-type {\n",
       "        vertical-align: middle;\n",
       "    }\n",
       "\n",
       "    .dataframe tbody tr th {\n",
       "        vertical-align: top;\n",
       "    }\n",
       "\n",
       "    .dataframe thead th {\n",
       "        text-align: right;\n",
       "    }\n",
       "</style>\n",
       "<table border=\"1\" class=\"dataframe\">\n",
       "  <thead>\n",
       "    <tr style=\"text-align: right;\">\n",
       "      <th></th>\n",
       "      <th>host_since</th>\n",
       "      <th>host_response_rate</th>\n",
       "      <th>host_is_superhost</th>\n",
       "      <th>host_listings_count</th>\n",
       "      <th>host_total_listings_count</th>\n",
       "      <th>host_has_profile_pic</th>\n",
       "      <th>host_identity_verified</th>\n",
       "      <th>is_location_exact</th>\n",
       "      <th>accommodates</th>\n",
       "      <th>bathrooms</th>\n",
       "      <th>...</th>\n",
       "      <th>bed_type_Airbed</th>\n",
       "      <th>bed_type_Couch</th>\n",
       "      <th>bed_type_Futon</th>\n",
       "      <th>bed_type_Pull-out Sofa</th>\n",
       "      <th>bed_type_Real Bed</th>\n",
       "      <th>cancellation_policy_flexible</th>\n",
       "      <th>cancellation_policy_moderate</th>\n",
       "      <th>cancellation_policy_strict_14_with_grace_period</th>\n",
       "      <th>cancellation_policy_super_strict_30</th>\n",
       "      <th>cancellation_policy_super_strict_60</th>\n",
       "    </tr>\n",
       "  </thead>\n",
       "  <tbody>\n",
       "    <tr>\n",
       "      <th>0</th>\n",
       "      <td>14146.0</td>\n",
       "      <td>1.0</td>\n",
       "      <td>True</td>\n",
       "      <td>1.0</td>\n",
       "      <td>1.0</td>\n",
       "      <td>True</td>\n",
       "      <td>False</td>\n",
       "      <td>False</td>\n",
       "      <td>2</td>\n",
       "      <td>1.5</td>\n",
       "      <td>...</td>\n",
       "      <td>0</td>\n",
       "      <td>0</td>\n",
       "      <td>0</td>\n",
       "      <td>0</td>\n",
       "      <td>1</td>\n",
       "      <td>0</td>\n",
       "      <td>0</td>\n",
       "      <td>1</td>\n",
       "      <td>0</td>\n",
       "      <td>0</td>\n",
       "    </tr>\n",
       "    <tr>\n",
       "      <th>1</th>\n",
       "      <td>14176.0</td>\n",
       "      <td>1.0</td>\n",
       "      <td>False</td>\n",
       "      <td>1.0</td>\n",
       "      <td>1.0</td>\n",
       "      <td>True</td>\n",
       "      <td>True</td>\n",
       "      <td>True</td>\n",
       "      <td>5</td>\n",
       "      <td>1.0</td>\n",
       "      <td>...</td>\n",
       "      <td>0</td>\n",
       "      <td>0</td>\n",
       "      <td>0</td>\n",
       "      <td>0</td>\n",
       "      <td>1</td>\n",
       "      <td>0</td>\n",
       "      <td>1</td>\n",
       "      <td>0</td>\n",
       "      <td>0</td>\n",
       "      <td>0</td>\n",
       "    </tr>\n",
       "    <tr>\n",
       "      <th>2</th>\n",
       "      <td>14580.0</td>\n",
       "      <td>1.0</td>\n",
       "      <td>False</td>\n",
       "      <td>2.0</td>\n",
       "      <td>2.0</td>\n",
       "      <td>True</td>\n",
       "      <td>False</td>\n",
       "      <td>True</td>\n",
       "      <td>2</td>\n",
       "      <td>1.0</td>\n",
       "      <td>...</td>\n",
       "      <td>0</td>\n",
       "      <td>0</td>\n",
       "      <td>0</td>\n",
       "      <td>0</td>\n",
       "      <td>1</td>\n",
       "      <td>0</td>\n",
       "      <td>0</td>\n",
       "      <td>1</td>\n",
       "      <td>0</td>\n",
       "      <td>0</td>\n",
       "    </tr>\n",
       "    <tr>\n",
       "      <th>3</th>\n",
       "      <td>14568.0</td>\n",
       "      <td>1.0</td>\n",
       "      <td>False</td>\n",
       "      <td>2.0</td>\n",
       "      <td>2.0</td>\n",
       "      <td>True</td>\n",
       "      <td>False</td>\n",
       "      <td>False</td>\n",
       "      <td>3</td>\n",
       "      <td>1.0</td>\n",
       "      <td>...</td>\n",
       "      <td>0</td>\n",
       "      <td>0</td>\n",
       "      <td>0</td>\n",
       "      <td>0</td>\n",
       "      <td>1</td>\n",
       "      <td>0</td>\n",
       "      <td>0</td>\n",
       "      <td>1</td>\n",
       "      <td>0</td>\n",
       "      <td>0</td>\n",
       "    </tr>\n",
       "    <tr>\n",
       "      <th>4</th>\n",
       "      <td>14691.0</td>\n",
       "      <td>1.0</td>\n",
       "      <td>True</td>\n",
       "      <td>1.0</td>\n",
       "      <td>1.0</td>\n",
       "      <td>True</td>\n",
       "      <td>True</td>\n",
       "      <td>True</td>\n",
       "      <td>2</td>\n",
       "      <td>1.0</td>\n",
       "      <td>...</td>\n",
       "      <td>0</td>\n",
       "      <td>0</td>\n",
       "      <td>0</td>\n",
       "      <td>0</td>\n",
       "      <td>1</td>\n",
       "      <td>0</td>\n",
       "      <td>0</td>\n",
       "      <td>1</td>\n",
       "      <td>0</td>\n",
       "      <td>0</td>\n",
       "    </tr>\n",
       "  </tbody>\n",
       "</table>\n",
       "<p>5 rows × 147 columns</p>\n",
       "</div>"
      ],
      "text/plain": [
       "   host_since  host_response_rate  host_is_superhost  host_listings_count  \\\n",
       "0     14146.0                 1.0               True                  1.0   \n",
       "1     14176.0                 1.0              False                  1.0   \n",
       "2     14580.0                 1.0              False                  2.0   \n",
       "3     14568.0                 1.0              False                  2.0   \n",
       "4     14691.0                 1.0               True                  1.0   \n",
       "\n",
       "   host_total_listings_count  host_has_profile_pic  host_identity_verified  \\\n",
       "0                        1.0                  True                   False   \n",
       "1                        1.0                  True                    True   \n",
       "2                        2.0                  True                   False   \n",
       "3                        2.0                  True                   False   \n",
       "4                        1.0                  True                    True   \n",
       "\n",
       "   is_location_exact  accommodates  bathrooms  ...  bed_type_Airbed  \\\n",
       "0              False             2        1.5  ...                0   \n",
       "1               True             5        1.0  ...                0   \n",
       "2               True             2        1.0  ...                0   \n",
       "3              False             3        1.0  ...                0   \n",
       "4               True             2        1.0  ...                0   \n",
       "\n",
       "   bed_type_Couch  bed_type_Futon  bed_type_Pull-out Sofa  bed_type_Real Bed  \\\n",
       "0               0               0                       0                  1   \n",
       "1               0               0                       0                  1   \n",
       "2               0               0                       0                  1   \n",
       "3               0               0                       0                  1   \n",
       "4               0               0                       0                  1   \n",
       "\n",
       "   cancellation_policy_flexible  cancellation_policy_moderate  \\\n",
       "0                             0                             0   \n",
       "1                             0                             1   \n",
       "2                             0                             0   \n",
       "3                             0                             0   \n",
       "4                             0                             0   \n",
       "\n",
       "   cancellation_policy_strict_14_with_grace_period  \\\n",
       "0                                                1   \n",
       "1                                                0   \n",
       "2                                                1   \n",
       "3                                                1   \n",
       "4                                                1   \n",
       "\n",
       "   cancellation_policy_super_strict_30  cancellation_policy_super_strict_60  \n",
       "0                                    0                                    0  \n",
       "1                                    0                                    0  \n",
       "2                                    0                                    0  \n",
       "3                                    0                                    0  \n",
       "4                                    0                                    0  \n",
       "\n",
       "[5 rows x 147 columns]"
      ]
     },
     "execution_count": 12,
     "metadata": {},
     "output_type": "execute_result"
    }
   ],
   "source": [
    "data_with_dummies.head()"
   ]
  },
  {
   "cell_type": "code",
   "execution_count": 13,
   "metadata": {},
   "outputs": [
    {
     "data": {
      "text/plain": [
       "Index(['host_since', 'host_response_rate', 'host_is_superhost',\n",
       "       'host_listings_count', 'host_total_listings_count',\n",
       "       'host_has_profile_pic', 'host_identity_verified', 'is_location_exact',\n",
       "       'accommodates', 'bathrooms',\n",
       "       ...\n",
       "       'bed_type_Airbed', 'bed_type_Couch', 'bed_type_Futon',\n",
       "       'bed_type_Pull-out Sofa', 'bed_type_Real Bed',\n",
       "       'cancellation_policy_flexible', 'cancellation_policy_moderate',\n",
       "       'cancellation_policy_strict_14_with_grace_period',\n",
       "       'cancellation_policy_super_strict_30',\n",
       "       'cancellation_policy_super_strict_60'],\n",
       "      dtype='object', length=147)"
      ]
     },
     "execution_count": 13,
     "metadata": {},
     "output_type": "execute_result"
    }
   ],
   "source": [
    "data_with_dummies.columns"
   ]
  },
  {
   "cell_type": "code",
   "execution_count": 14,
   "metadata": {},
   "outputs": [
    {
     "data": {
      "text/html": [
       "<div>\n",
       "<style scoped>\n",
       "    .dataframe tbody tr th:only-of-type {\n",
       "        vertical-align: middle;\n",
       "    }\n",
       "\n",
       "    .dataframe tbody tr th {\n",
       "        vertical-align: top;\n",
       "    }\n",
       "\n",
       "    .dataframe thead th {\n",
       "        text-align: right;\n",
       "    }\n",
       "</style>\n",
       "<table border=\"1\" class=\"dataframe\">\n",
       "  <thead>\n",
       "    <tr style=\"text-align: right;\">\n",
       "      <th></th>\n",
       "      <th>host_since</th>\n",
       "      <th>host_response_rate</th>\n",
       "      <th>host_listings_count</th>\n",
       "      <th>host_total_listings_count</th>\n",
       "      <th>accommodates</th>\n",
       "      <th>bathrooms</th>\n",
       "      <th>bedrooms</th>\n",
       "      <th>beds</th>\n",
       "      <th>square_feet</th>\n",
       "      <th>price</th>\n",
       "      <th>...</th>\n",
       "      <th>bed_type_Airbed</th>\n",
       "      <th>bed_type_Couch</th>\n",
       "      <th>bed_type_Futon</th>\n",
       "      <th>bed_type_Pull-out Sofa</th>\n",
       "      <th>bed_type_Real Bed</th>\n",
       "      <th>cancellation_policy_flexible</th>\n",
       "      <th>cancellation_policy_moderate</th>\n",
       "      <th>cancellation_policy_strict_14_with_grace_period</th>\n",
       "      <th>cancellation_policy_super_strict_30</th>\n",
       "      <th>cancellation_policy_super_strict_60</th>\n",
       "    </tr>\n",
       "  </thead>\n",
       "  <tbody>\n",
       "    <tr>\n",
       "      <th>count</th>\n",
       "      <td>20114.000000</td>\n",
       "      <td>20114.000000</td>\n",
       "      <td>20114.000000</td>\n",
       "      <td>20114.000000</td>\n",
       "      <td>20114.000000</td>\n",
       "      <td>20114.000000</td>\n",
       "      <td>20114.000000</td>\n",
       "      <td>20114.000000</td>\n",
       "      <td>20114.000000</td>\n",
       "      <td>20114.000000</td>\n",
       "      <td>...</td>\n",
       "      <td>20114.000000</td>\n",
       "      <td>20114.000000</td>\n",
       "      <td>20114.000000</td>\n",
       "      <td>20114.000000</td>\n",
       "      <td>20114.000000</td>\n",
       "      <td>20114.000000</td>\n",
       "      <td>20114.000000</td>\n",
       "      <td>20114.000000</td>\n",
       "      <td>20114.000000</td>\n",
       "      <td>20114.00000</td>\n",
       "    </tr>\n",
       "    <tr>\n",
       "      <th>mean</th>\n",
       "      <td>16412.904445</td>\n",
       "      <td>0.617407</td>\n",
       "      <td>6.187183</td>\n",
       "      <td>6.187183</td>\n",
       "      <td>2.887392</td>\n",
       "      <td>1.128990</td>\n",
       "      <td>1.448792</td>\n",
       "      <td>1.856667</td>\n",
       "      <td>10.811872</td>\n",
       "      <td>146.122104</td>\n",
       "      <td>...</td>\n",
       "      <td>0.000795</td>\n",
       "      <td>0.000298</td>\n",
       "      <td>0.002138</td>\n",
       "      <td>0.007259</td>\n",
       "      <td>0.989510</td>\n",
       "      <td>0.230785</td>\n",
       "      <td>0.376355</td>\n",
       "      <td>0.391021</td>\n",
       "      <td>0.000149</td>\n",
       "      <td>0.00169</td>\n",
       "    </tr>\n",
       "    <tr>\n",
       "      <th>std</th>\n",
       "      <td>698.332163</td>\n",
       "      <td>0.468658</td>\n",
       "      <td>25.149078</td>\n",
       "      <td>25.149078</td>\n",
       "      <td>1.310228</td>\n",
       "      <td>0.365886</td>\n",
       "      <td>0.895576</td>\n",
       "      <td>1.383321</td>\n",
       "      <td>106.641772</td>\n",
       "      <td>120.794404</td>\n",
       "      <td>...</td>\n",
       "      <td>0.028193</td>\n",
       "      <td>0.017269</td>\n",
       "      <td>0.046188</td>\n",
       "      <td>0.084890</td>\n",
       "      <td>0.101886</td>\n",
       "      <td>0.421345</td>\n",
       "      <td>0.484483</td>\n",
       "      <td>0.487991</td>\n",
       "      <td>0.012212</td>\n",
       "      <td>0.04108</td>\n",
       "    </tr>\n",
       "    <tr>\n",
       "      <th>min</th>\n",
       "      <td>0.000000</td>\n",
       "      <td>0.000000</td>\n",
       "      <td>0.000000</td>\n",
       "      <td>0.000000</td>\n",
       "      <td>1.000000</td>\n",
       "      <td>0.000000</td>\n",
       "      <td>0.000000</td>\n",
       "      <td>0.000000</td>\n",
       "      <td>0.000000</td>\n",
       "      <td>0.000000</td>\n",
       "      <td>...</td>\n",
       "      <td>0.000000</td>\n",
       "      <td>0.000000</td>\n",
       "      <td>0.000000</td>\n",
       "      <td>0.000000</td>\n",
       "      <td>0.000000</td>\n",
       "      <td>0.000000</td>\n",
       "      <td>0.000000</td>\n",
       "      <td>0.000000</td>\n",
       "      <td>0.000000</td>\n",
       "      <td>0.00000</td>\n",
       "    </tr>\n",
       "    <tr>\n",
       "      <th>25%</th>\n",
       "      <td>15924.000000</td>\n",
       "      <td>0.000000</td>\n",
       "      <td>1.000000</td>\n",
       "      <td>1.000000</td>\n",
       "      <td>2.000000</td>\n",
       "      <td>1.000000</td>\n",
       "      <td>1.000000</td>\n",
       "      <td>1.000000</td>\n",
       "      <td>0.000000</td>\n",
       "      <td>95.000000</td>\n",
       "      <td>...</td>\n",
       "      <td>0.000000</td>\n",
       "      <td>0.000000</td>\n",
       "      <td>0.000000</td>\n",
       "      <td>0.000000</td>\n",
       "      <td>1.000000</td>\n",
       "      <td>0.000000</td>\n",
       "      <td>0.000000</td>\n",
       "      <td>0.000000</td>\n",
       "      <td>0.000000</td>\n",
       "      <td>0.00000</td>\n",
       "    </tr>\n",
       "    <tr>\n",
       "      <th>50%</th>\n",
       "      <td>16388.000000</td>\n",
       "      <td>1.000000</td>\n",
       "      <td>1.000000</td>\n",
       "      <td>1.000000</td>\n",
       "      <td>2.000000</td>\n",
       "      <td>1.000000</td>\n",
       "      <td>1.000000</td>\n",
       "      <td>1.000000</td>\n",
       "      <td>0.000000</td>\n",
       "      <td>125.000000</td>\n",
       "      <td>...</td>\n",
       "      <td>0.000000</td>\n",
       "      <td>0.000000</td>\n",
       "      <td>0.000000</td>\n",
       "      <td>0.000000</td>\n",
       "      <td>1.000000</td>\n",
       "      <td>0.000000</td>\n",
       "      <td>0.000000</td>\n",
       "      <td>0.000000</td>\n",
       "      <td>0.000000</td>\n",
       "      <td>0.00000</td>\n",
       "    </tr>\n",
       "    <tr>\n",
       "      <th>75%</th>\n",
       "      <td>16909.000000</td>\n",
       "      <td>1.000000</td>\n",
       "      <td>1.000000</td>\n",
       "      <td>1.000000</td>\n",
       "      <td>4.000000</td>\n",
       "      <td>1.000000</td>\n",
       "      <td>2.000000</td>\n",
       "      <td>2.000000</td>\n",
       "      <td>0.000000</td>\n",
       "      <td>170.000000</td>\n",
       "      <td>...</td>\n",
       "      <td>0.000000</td>\n",
       "      <td>0.000000</td>\n",
       "      <td>0.000000</td>\n",
       "      <td>0.000000</td>\n",
       "      <td>1.000000</td>\n",
       "      <td>0.000000</td>\n",
       "      <td>1.000000</td>\n",
       "      <td>1.000000</td>\n",
       "      <td>0.000000</td>\n",
       "      <td>0.00000</td>\n",
       "    </tr>\n",
       "    <tr>\n",
       "      <th>max</th>\n",
       "      <td>17750.000000</td>\n",
       "      <td>1.000000</td>\n",
       "      <td>629.000000</td>\n",
       "      <td>629.000000</td>\n",
       "      <td>17.000000</td>\n",
       "      <td>15.000000</td>\n",
       "      <td>12.000000</td>\n",
       "      <td>32.000000</td>\n",
       "      <td>3229.000000</td>\n",
       "      <td>8000.000000</td>\n",
       "      <td>...</td>\n",
       "      <td>1.000000</td>\n",
       "      <td>1.000000</td>\n",
       "      <td>1.000000</td>\n",
       "      <td>1.000000</td>\n",
       "      <td>1.000000</td>\n",
       "      <td>1.000000</td>\n",
       "      <td>1.000000</td>\n",
       "      <td>1.000000</td>\n",
       "      <td>1.000000</td>\n",
       "      <td>1.00000</td>\n",
       "    </tr>\n",
       "  </tbody>\n",
       "</table>\n",
       "<p>8 rows × 105 columns</p>\n",
       "</div>"
      ],
      "text/plain": [
       "         host_since  host_response_rate  host_listings_count  \\\n",
       "count  20114.000000        20114.000000         20114.000000   \n",
       "mean   16412.904445            0.617407             6.187183   \n",
       "std      698.332163            0.468658            25.149078   \n",
       "min        0.000000            0.000000             0.000000   \n",
       "25%    15924.000000            0.000000             1.000000   \n",
       "50%    16388.000000            1.000000             1.000000   \n",
       "75%    16909.000000            1.000000             1.000000   \n",
       "max    17750.000000            1.000000           629.000000   \n",
       "\n",
       "       host_total_listings_count  accommodates     bathrooms      bedrooms  \\\n",
       "count               20114.000000  20114.000000  20114.000000  20114.000000   \n",
       "mean                    6.187183      2.887392      1.128990      1.448792   \n",
       "std                    25.149078      1.310228      0.365886      0.895576   \n",
       "min                     0.000000      1.000000      0.000000      0.000000   \n",
       "25%                     1.000000      2.000000      1.000000      1.000000   \n",
       "50%                     1.000000      2.000000      1.000000      1.000000   \n",
       "75%                     1.000000      4.000000      1.000000      2.000000   \n",
       "max                   629.000000     17.000000     15.000000     12.000000   \n",
       "\n",
       "               beds   square_feet         price  ...  bed_type_Airbed  \\\n",
       "count  20114.000000  20114.000000  20114.000000  ...     20114.000000   \n",
       "mean       1.856667     10.811872    146.122104  ...         0.000795   \n",
       "std        1.383321    106.641772    120.794404  ...         0.028193   \n",
       "min        0.000000      0.000000      0.000000  ...         0.000000   \n",
       "25%        1.000000      0.000000     95.000000  ...         0.000000   \n",
       "50%        1.000000      0.000000    125.000000  ...         0.000000   \n",
       "75%        2.000000      0.000000    170.000000  ...         0.000000   \n",
       "max       32.000000   3229.000000   8000.000000  ...         1.000000   \n",
       "\n",
       "       bed_type_Couch  bed_type_Futon  bed_type_Pull-out Sofa  \\\n",
       "count    20114.000000    20114.000000            20114.000000   \n",
       "mean         0.000298        0.002138                0.007259   \n",
       "std          0.017269        0.046188                0.084890   \n",
       "min          0.000000        0.000000                0.000000   \n",
       "25%          0.000000        0.000000                0.000000   \n",
       "50%          0.000000        0.000000                0.000000   \n",
       "75%          0.000000        0.000000                0.000000   \n",
       "max          1.000000        1.000000                1.000000   \n",
       "\n",
       "       bed_type_Real Bed  cancellation_policy_flexible  \\\n",
       "count       20114.000000                  20114.000000   \n",
       "mean            0.989510                      0.230785   \n",
       "std             0.101886                      0.421345   \n",
       "min             0.000000                      0.000000   \n",
       "25%             1.000000                      0.000000   \n",
       "50%             1.000000                      0.000000   \n",
       "75%             1.000000                      0.000000   \n",
       "max             1.000000                      1.000000   \n",
       "\n",
       "       cancellation_policy_moderate  \\\n",
       "count                  20114.000000   \n",
       "mean                       0.376355   \n",
       "std                        0.484483   \n",
       "min                        0.000000   \n",
       "25%                        0.000000   \n",
       "50%                        0.000000   \n",
       "75%                        1.000000   \n",
       "max                        1.000000   \n",
       "\n",
       "       cancellation_policy_strict_14_with_grace_period  \\\n",
       "count                                     20114.000000   \n",
       "mean                                          0.391021   \n",
       "std                                           0.487991   \n",
       "min                                           0.000000   \n",
       "25%                                           0.000000   \n",
       "50%                                           0.000000   \n",
       "75%                                           1.000000   \n",
       "max                                           1.000000   \n",
       "\n",
       "       cancellation_policy_super_strict_30  \\\n",
       "count                         20114.000000   \n",
       "mean                              0.000149   \n",
       "std                               0.012212   \n",
       "min                               0.000000   \n",
       "25%                               0.000000   \n",
       "50%                               0.000000   \n",
       "75%                               0.000000   \n",
       "max                               1.000000   \n",
       "\n",
       "       cancellation_policy_super_strict_60  \n",
       "count                          20114.00000  \n",
       "mean                               0.00169  \n",
       "std                                0.04108  \n",
       "min                                0.00000  \n",
       "25%                                0.00000  \n",
       "50%                                0.00000  \n",
       "75%                                0.00000  \n",
       "max                                1.00000  \n",
       "\n",
       "[8 rows x 105 columns]"
      ]
     },
     "execution_count": 14,
     "metadata": {},
     "output_type": "execute_result"
    }
   ],
   "source": [
    "data_with_dummies.describe()"
   ]
  },
  {
   "cell_type": "code",
   "execution_count": 15,
   "metadata": {},
   "outputs": [
    {
     "data": {
      "text/html": [
       "<div>\n",
       "<style scoped>\n",
       "    .dataframe tbody tr th:only-of-type {\n",
       "        vertical-align: middle;\n",
       "    }\n",
       "\n",
       "    .dataframe tbody tr th {\n",
       "        vertical-align: top;\n",
       "    }\n",
       "\n",
       "    .dataframe thead th {\n",
       "        text-align: right;\n",
       "    }\n",
       "</style>\n",
       "<table border=\"1\" class=\"dataframe\">\n",
       "  <thead>\n",
       "    <tr style=\"text-align: right;\">\n",
       "      <th></th>\n",
       "      <th>price</th>\n",
       "      <th>cleaning_fee</th>\n",
       "      <th>extra_people</th>\n",
       "      <th>security_deposit</th>\n",
       "    </tr>\n",
       "  </thead>\n",
       "  <tbody>\n",
       "    <tr>\n",
       "      <th>0</th>\n",
       "      <td>69.0</td>\n",
       "      <td>40.0</td>\n",
       "      <td>20.0</td>\n",
       "      <td>100.0</td>\n",
       "    </tr>\n",
       "    <tr>\n",
       "      <th>1</th>\n",
       "      <td>78.0</td>\n",
       "      <td>40.0</td>\n",
       "      <td>15.0</td>\n",
       "      <td>300.0</td>\n",
       "    </tr>\n",
       "    <tr>\n",
       "      <th>2</th>\n",
       "      <td>80.0</td>\n",
       "      <td>0.0</td>\n",
       "      <td>0.0</td>\n",
       "      <td>0.0</td>\n",
       "    </tr>\n",
       "  </tbody>\n",
       "</table>\n",
       "</div>"
      ],
      "text/plain": [
       "   price  cleaning_fee  extra_people  security_deposit\n",
       "0   69.0          40.0          20.0             100.0\n",
       "1   78.0          40.0          15.0             300.0\n",
       "2   80.0           0.0           0.0               0.0"
      ]
     },
     "execution_count": 15,
     "metadata": {},
     "output_type": "execute_result"
    }
   ],
   "source": [
    "data_with_dummies[['price', 'cleaning_fee', 'extra_people', 'security_deposit']].head(3)"
   ]
  },
  {
   "cell_type": "code",
   "execution_count": 16,
   "metadata": {},
   "outputs": [
    {
     "data": {
      "text/plain": [
       "count    20114.000000\n",
       "mean       146.122104\n",
       "std        120.794404\n",
       "min          0.000000\n",
       "25%         95.000000\n",
       "50%        125.000000\n",
       "75%        170.000000\n",
       "max       8000.000000\n",
       "Name: price, dtype: float64"
      ]
     },
     "execution_count": 16,
     "metadata": {},
     "output_type": "execute_result"
    }
   ],
   "source": [
    "data_with_dummies['price'].describe()"
   ]
  },
  {
   "cell_type": "markdown",
   "metadata": {},
   "source": [
    "## Check for distribution of target and few numerical inputs"
   ]
  },
  {
   "cell_type": "code",
   "execution_count": 18,
   "metadata": {},
   "outputs": [
    {
     "data": {
      "image/png": "[encoded data removed]",
      "text/plain": [
       "<Figure size 1152x144 with 1 Axes>"
      ]
     },
     "metadata": {
      "needs_background": "light"
     },
     "output_type": "display_data"
    }
   ],
   "source": [
    "## analysing target variable 'price' distribution\n",
    "red_square = dict(markerfacecolor='r', markeredgecolor='r', marker='.')\n",
    "data_with_dummies['price'].plot(kind='box', xlim=(0, 1000), vert=False, flierprops=red_square, figsize=(16,2));"
   ]
  },
  {
   "cell_type": "code",
   "execution_count": 19,
   "metadata": {},
   "outputs": [],
   "source": [
    "# remove outliers in price (price > 700 and 0 or less)\n",
    "data_with_dummies.drop(data_with_dummies[ (data_with_dummies.price > 700) | (data_with_dummies.price <= 0) ].index, axis=0, inplace=True)"
   ]
  },
  {
   "cell_type": "code",
   "execution_count": 20,
   "metadata": {},
   "outputs": [
    {
     "data": {
      "text/plain": [
       "<matplotlib.axes._subplots.AxesSubplot at 0x18d33668278>"
      ]
     },
     "execution_count": 20,
     "metadata": {},
     "output_type": "execute_result"
    },
    {
     "data": {
      "image/png": "[encoded data removed]",
      "text/plain": [
       "<Figure size 432x288 with 1 Axes>"
      ]
     },
     "metadata": {
      "needs_background": "light"
     },
     "output_type": "display_data"
    }
   ],
   "source": [
    "data_with_dummies['price'].hist()"
   ]
  },
  {
   "cell_type": "code",
   "execution_count": 21,
   "metadata": {},
   "outputs": [
    {
     "data": {
      "text/plain": [
       "(20047, 147)"
      ]
     },
     "execution_count": 21,
     "metadata": {},
     "output_type": "execute_result"
    }
   ],
   "source": [
    "data_with_dummies.shape"
   ]
  },
  {
   "cell_type": "code",
   "execution_count": 22,
   "metadata": {},
   "outputs": [
    {
     "data": {
      "text/html": [
       "<div>\n",
       "<style scoped>\n",
       "    .dataframe tbody tr th:only-of-type {\n",
       "        vertical-align: middle;\n",
       "    }\n",
       "\n",
       "    .dataframe tbody tr th {\n",
       "        vertical-align: top;\n",
       "    }\n",
       "\n",
       "    .dataframe thead th {\n",
       "        text-align: right;\n",
       "    }\n",
       "</style>\n",
       "<table border=\"1\" class=\"dataframe\">\n",
       "  <thead>\n",
       "    <tr style=\"text-align: right;\">\n",
       "      <th></th>\n",
       "      <th>square_feet</th>\n",
       "      <th>cleaning_fee</th>\n",
       "      <th>security_deposit</th>\n",
       "    </tr>\n",
       "  </thead>\n",
       "  <tbody>\n",
       "    <tr>\n",
       "      <th>count</th>\n",
       "      <td>20047.000000</td>\n",
       "      <td>20047.000000</td>\n",
       "      <td>20047.000000</td>\n",
       "    </tr>\n",
       "    <tr>\n",
       "      <th>mean</th>\n",
       "      <td>10.737916</td>\n",
       "      <td>31.784407</td>\n",
       "      <td>149.655011</td>\n",
       "    </tr>\n",
       "    <tr>\n",
       "      <th>std</th>\n",
       "      <td>106.136079</td>\n",
       "      <td>25.373788</td>\n",
       "      <td>273.163622</td>\n",
       "    </tr>\n",
       "    <tr>\n",
       "      <th>min</th>\n",
       "      <td>0.000000</td>\n",
       "      <td>0.000000</td>\n",
       "      <td>0.000000</td>\n",
       "    </tr>\n",
       "    <tr>\n",
       "      <th>25%</th>\n",
       "      <td>0.000000</td>\n",
       "      <td>15.000000</td>\n",
       "      <td>0.000000</td>\n",
       "    </tr>\n",
       "    <tr>\n",
       "      <th>50%</th>\n",
       "      <td>0.000000</td>\n",
       "      <td>30.000000</td>\n",
       "      <td>100.000000</td>\n",
       "    </tr>\n",
       "    <tr>\n",
       "      <th>75%</th>\n",
       "      <td>0.000000</td>\n",
       "      <td>45.000000</td>\n",
       "      <td>250.000000</td>\n",
       "    </tr>\n",
       "    <tr>\n",
       "      <th>max</th>\n",
       "      <td>3229.000000</td>\n",
       "      <td>531.000000</td>\n",
       "      <td>4736.000000</td>\n",
       "    </tr>\n",
       "  </tbody>\n",
       "</table>\n",
       "</div>"
      ],
      "text/plain": [
       "        square_feet  cleaning_fee  security_deposit\n",
       "count  20047.000000  20047.000000      20047.000000\n",
       "mean      10.737916     31.784407        149.655011\n",
       "std      106.136079     25.373788        273.163622\n",
       "min        0.000000      0.000000          0.000000\n",
       "25%        0.000000     15.000000          0.000000\n",
       "50%        0.000000     30.000000        100.000000\n",
       "75%        0.000000     45.000000        250.000000\n",
       "max     3229.000000    531.000000       4736.000000"
      ]
     },
     "execution_count": 22,
     "metadata": {},
     "output_type": "execute_result"
    }
   ],
   "source": [
    "data_with_dummies[['square_feet','cleaning_fee','security_deposit']].describe()"
   ]
  },
  {
   "cell_type": "code",
   "execution_count": 23,
   "metadata": {},
   "outputs": [
    {
     "data": {
      "image/png": "[encoded data removed]",
      "text/plain": [
       "<Figure size 1152x144 with 1 Axes>"
      ]
     },
     "metadata": {
      "needs_background": "light"
     },
     "output_type": "display_data"
    }
   ],
   "source": [
    "# analyse 'square_feet'\n",
    "red_square = dict(markerfacecolor='r', markeredgecolor='r', marker='.')\n",
    "data_with_dummies['square_feet'].plot(kind='box', xlim=(0, 3000), vert=False, flierprops=red_square, figsize=(16,2));"
   ]
  },
  {
   "cell_type": "code",
   "execution_count": 24,
   "metadata": {},
   "outputs": [
    {
     "data": {
      "text/plain": [
       "19760"
      ]
     },
     "execution_count": 24,
     "metadata": {},
     "output_type": "execute_result"
    }
   ],
   "source": [
    "len(data_with_dummies.loc[data_with_dummies['square_feet'] == 0])"
   ]
  },
  {
   "cell_type": "code",
   "execution_count": 25,
   "metadata": {},
   "outputs": [],
   "source": [
    "# remove 'square_feet' completely since it is with too many null values\n",
    "data_with_dummies.drop(['square_feet'],axis=1,inplace=True)"
   ]
  },
  {
   "cell_type": "code",
   "execution_count": 26,
   "metadata": {},
   "outputs": [
    {
     "data": {
      "image/png": "[encoded data removed]",
      "text/plain": [
       "<Figure size 1152x144 with 1 Axes>"
      ]
     },
     "metadata": {
      "needs_background": "light"
     },
     "output_type": "display_data"
    }
   ],
   "source": [
    "# analyse 'cleaning_fee'\n",
    "red_square = dict(markerfacecolor='r', markeredgecolor='r', marker='.')\n",
    "data_with_dummies['cleaning_fee'].plot(kind='box', xlim=(0, 300), vert=False, flierprops=red_square, figsize=(16,2));"
   ]
  },
  {
   "cell_type": "code",
   "execution_count": 27,
   "metadata": {},
   "outputs": [],
   "source": [
    "# remove outliers in 'cleaning_fee' (>150)\n",
    "data_with_dummies.drop(data_with_dummies[ (data_with_dummies.cleaning_fee > 150) ].index, axis=0, inplace=True)"
   ]
  },
  {
   "cell_type": "code",
   "execution_count": 28,
   "metadata": {},
   "outputs": [
    {
     "data": {
      "image/png": "[encoded data removed]",
      "text/plain": [
       "<Figure size 1152x144 with 1 Axes>"
      ]
     },
     "metadata": {
      "needs_background": "light"
     },
     "output_type": "display_data"
    }
   ],
   "source": [
    "# analyse 'security_deposit'\n",
    "red_square = dict(markerfacecolor='r', markeredgecolor='r', marker='.')\n",
    "data_with_dummies['security_deposit'].plot(kind='box', xlim=(0, 3000), vert=False, flierprops=red_square, figsize=(16,2));"
   ]
  },
  {
   "cell_type": "code",
   "execution_count": 29,
   "metadata": {},
   "outputs": [],
   "source": [
    "# remove outliers in 'security_deposit' (>1000)\n",
    "data_with_dummies.drop(data_with_dummies[ (data_with_dummies.security_deposit > 1000) ].index, axis=0, inplace=True)"
   ]
  },
  {
   "cell_type": "code",
   "execution_count": 30,
   "metadata": {},
   "outputs": [
    {
     "name": "stdout",
     "output_type": "stream",
     "text": [
      "32\n",
      "1147\n"
     ]
    }
   ],
   "source": [
    "print(len(data_with_dummies.loc[data_with_dummies['bathrooms'] == 0]))\n",
    "print(len(data_with_dummies.loc[data_with_dummies['bedrooms'] == 0]))"
   ]
  },
  {
   "cell_type": "code",
   "execution_count": 31,
   "metadata": {},
   "outputs": [],
   "source": [
    "# drop rows with 0 in bathrooms and bedrooms since it is illogical and might skew the results\n",
    "data_with_dummies.drop(data_with_dummies[(data_with_dummies.bathrooms == 0) | (data_with_dummies.bedrooms == 0)].index, axis=0, inplace=True)"
   ]
  },
  {
   "cell_type": "code",
   "execution_count": 32,
   "metadata": {},
   "outputs": [
    {
     "data": {
      "text/plain": [
       "(18700, 146)"
      ]
     },
     "execution_count": 32,
     "metadata": {},
     "output_type": "execute_result"
    }
   ],
   "source": [
    "data_with_dummies.shape"
   ]
  },
  {
   "cell_type": "markdown",
   "metadata": {},
   "source": [
    "# Feature Selection"
   ]
  },
  {
   "cell_type": "code",
   "execution_count": 33,
   "metadata": {},
   "outputs": [],
   "source": [
    "from sklearn.model_selection import train_test_split\n",
    "from sklearn.feature_selection import VarianceThreshold"
   ]
  },
  {
   "cell_type": "code",
   "execution_count": 34,
   "metadata": {},
   "outputs": [],
   "source": [
    "## split dataset into training and testing sets\n",
    "train_features, test_features, train_values, test_values=train_test_split(\n",
    "    data_with_dummies.drop(labels=['price'], axis=1),\n",
    "    data_with_dummies['price'],\n",
    "    test_size=0.2,\n",
    "    random_state=41)"
   ]
  },
  {
   "cell_type": "code",
   "execution_count": 35,
   "metadata": {},
   "outputs": [],
   "source": [
    "## remove all constant columns while it is not useful in predicting\n",
    "def remove_constant_columns(train_features):\n",
    "    constant_filter = VarianceThreshold(threshold=0)\n",
    "    constant_filter.fit(train_features)\n",
    "    constant_columns = [column for column in train_features.columns\n",
    "                    if column not in train_features.columns[constant_filter.get_support()]]\n",
    "    return constant_columns"
   ]
  },
  {
   "cell_type": "code",
   "execution_count": 36,
   "metadata": {},
   "outputs": [],
   "source": [
    "## remove all quasi constant columns while it will not affect the prediction much\n",
    "def remove_quasi_constant_columns(train_features):\n",
    "    qconstant_filter = VarianceThreshold(threshold=0.01)\n",
    "    qconstant_filter.fit(train_features)\n",
    "    qconstant_columns = [column for column in train_features.columns\n",
    "                    if column not in train_features.columns[qconstant_filter.get_support()]]\n",
    "    return qconstant_columns"
   ]
  },
  {
   "cell_type": "code",
   "execution_count": 37,
   "metadata": {},
   "outputs": [],
   "source": [
    "## remove all duplicate columns to reduce feature space\n",
    "def remove_duplicate_columns(train_features):\n",
    "    train_features_T = train_features.T\n",
    "    unique_features = train_features_T.drop_duplicates(keep='first').T\n",
    "    duplicated_features = [dup_col for dup_col in train_features.columns if dup_col not in unique_features.columns]\n",
    "    return duplicated_features"
   ]
  },
  {
   "cell_type": "code",
   "execution_count": 38,
   "metadata": {},
   "outputs": [],
   "source": [
    "## remove all correalted columns to reduce feature space\n",
    "def remove_correlated_features(train_features):\n",
    "    correlated_features = set()\n",
    "    correlation_matrix = train_features.corr()\n",
    "    for i in range(len(correlation_matrix .columns)):\n",
    "        for j in range(i):\n",
    "            if abs(correlation_matrix.iloc[i, j]) > 0.8:\n",
    "                colname = correlation_matrix.columns[i]\n",
    "                correlated_features.add(colname)\n",
    "    return correlated_features"
   ]
  },
  {
   "cell_type": "code",
   "execution_count": 39,
   "metadata": {},
   "outputs": [],
   "source": [
    "# remove columns that cannot be influenced by user, and some redundant columns\n",
    "non_influenceable_columns = ['host_is_superhost','number_of_reviews', 'first_review', 'reviews_per_month', 'days_since_calendar_updated', 'verification_phone', 'verification_email',\n",
    "       'verification_reviews', 'verification_jumio', 'verification_facebook',\n",
    "       'verification_government_id', 'verification_selfie',\n",
    "       'verification_work_email']\n",
    "train_features.drop(labels=non_influenceable_columns, axis=1, inplace=True)\n",
    "test_features.drop(labels=non_influenceable_columns, axis=1, inplace=True)"
   ]
  },
  {
   "cell_type": "code",
   "execution_count": 40,
   "metadata": {},
   "outputs": [],
   "source": [
    "constant_columns = remove_constant_columns(train_features)\n",
    "train_features.drop(labels=constant_columns, axis=1, inplace=True)\n",
    "test_features.drop(labels=constant_columns, axis=1, inplace=True)"
   ]
  },
  {
   "cell_type": "code",
   "execution_count": 41,
   "metadata": {},
   "outputs": [],
   "source": [
    "qconstant_columns = remove_quasi_constant_columns(train_features)\n",
    "train_features.drop(labels=qconstant_columns, axis=1, inplace=True)\n",
    "test_features.drop(labels=qconstant_columns, axis=1, inplace=True)"
   ]
  },
  {
   "cell_type": "code",
   "execution_count": 42,
   "metadata": {},
   "outputs": [],
   "source": [
    "duplicated_columns = remove_duplicate_columns(train_features)\n",
    "train_features.drop(labels=duplicated_columns, axis=1, inplace=True)\n",
    "test_features.drop(labels=duplicated_columns, axis=1, inplace=True)"
   ]
  },
  {
   "cell_type": "code",
   "execution_count": 43,
   "metadata": {},
   "outputs": [],
   "source": [
    "correlated_features = remove_correlated_features(train_features)\n",
    "train_features.drop(labels=correlated_features, axis=1, inplace=True)\n",
    "test_features.drop(labels=correlated_features, axis=1, inplace=True)"
   ]
  },
  {
   "cell_type": "code",
   "execution_count": 44,
   "metadata": {},
   "outputs": [
    {
     "data": {
      "text/plain": [
       "((14960, 56), (3740, 56))"
      ]
     },
     "execution_count": 44,
     "metadata": {},
     "output_type": "execute_result"
    }
   ],
   "source": [
    "train_features.shape, test_features.shape"
   ]
  },
  {
   "cell_type": "code",
   "execution_count": 45,
   "metadata": {},
   "outputs": [
    {
     "data": {
      "text/html": [
       "<div>\n",
       "<style scoped>\n",
       "    .dataframe tbody tr th:only-of-type {\n",
       "        vertical-align: middle;\n",
       "    }\n",
       "\n",
       "    .dataframe tbody tr th {\n",
       "        vertical-align: top;\n",
       "    }\n",
       "\n",
       "    .dataframe thead th {\n",
       "        text-align: right;\n",
       "    }\n",
       "</style>\n",
       "<table border=\"1\" class=\"dataframe\">\n",
       "  <thead>\n",
       "    <tr style=\"text-align: right;\">\n",
       "      <th></th>\n",
       "      <th>host_since</th>\n",
       "      <th>host_response_rate</th>\n",
       "      <th>host_listings_count</th>\n",
       "      <th>host_identity_verified</th>\n",
       "      <th>is_location_exact</th>\n",
       "      <th>accommodates</th>\n",
       "      <th>bathrooms</th>\n",
       "      <th>bedrooms</th>\n",
       "      <th>security_deposit</th>\n",
       "      <th>cleaning_fee</th>\n",
       "      <th>...</th>\n",
       "      <th>property_type_Bed and breakfast</th>\n",
       "      <th>property_type_Boat</th>\n",
       "      <th>property_type_Condominium</th>\n",
       "      <th>property_type_House</th>\n",
       "      <th>property_type_Loft</th>\n",
       "      <th>property_type_Townhouse</th>\n",
       "      <th>room_type_Entire home/apt</th>\n",
       "      <th>cancellation_policy_flexible</th>\n",
       "      <th>cancellation_policy_moderate</th>\n",
       "      <th>cancellation_policy_strict_14_with_grace_period</th>\n",
       "    </tr>\n",
       "  </thead>\n",
       "  <tbody>\n",
       "    <tr>\n",
       "      <th>6105</th>\n",
       "      <td>15493.0</td>\n",
       "      <td>0.0</td>\n",
       "      <td>1.0</td>\n",
       "      <td>False</td>\n",
       "      <td>False</td>\n",
       "      <td>4</td>\n",
       "      <td>1.0</td>\n",
       "      <td>2.0</td>\n",
       "      <td>200.0</td>\n",
       "      <td>20.0</td>\n",
       "      <td>...</td>\n",
       "      <td>0</td>\n",
       "      <td>0</td>\n",
       "      <td>0</td>\n",
       "      <td>0</td>\n",
       "      <td>0</td>\n",
       "      <td>0</td>\n",
       "      <td>1</td>\n",
       "      <td>1</td>\n",
       "      <td>0</td>\n",
       "      <td>0</td>\n",
       "    </tr>\n",
       "    <tr>\n",
       "      <th>1798</th>\n",
       "      <td>16139.0</td>\n",
       "      <td>1.0</td>\n",
       "      <td>1.0</td>\n",
       "      <td>False</td>\n",
       "      <td>True</td>\n",
       "      <td>2</td>\n",
       "      <td>1.0</td>\n",
       "      <td>1.0</td>\n",
       "      <td>0.0</td>\n",
       "      <td>0.0</td>\n",
       "      <td>...</td>\n",
       "      <td>0</td>\n",
       "      <td>0</td>\n",
       "      <td>0</td>\n",
       "      <td>0</td>\n",
       "      <td>0</td>\n",
       "      <td>0</td>\n",
       "      <td>0</td>\n",
       "      <td>0</td>\n",
       "      <td>0</td>\n",
       "      <td>1</td>\n",
       "    </tr>\n",
       "    <tr>\n",
       "      <th>14425</th>\n",
       "      <td>15832.0</td>\n",
       "      <td>0.0</td>\n",
       "      <td>1.0</td>\n",
       "      <td>True</td>\n",
       "      <td>True</td>\n",
       "      <td>2</td>\n",
       "      <td>1.0</td>\n",
       "      <td>1.0</td>\n",
       "      <td>250.0</td>\n",
       "      <td>30.0</td>\n",
       "      <td>...</td>\n",
       "      <td>0</td>\n",
       "      <td>0</td>\n",
       "      <td>0</td>\n",
       "      <td>0</td>\n",
       "      <td>0</td>\n",
       "      <td>0</td>\n",
       "      <td>0</td>\n",
       "      <td>0</td>\n",
       "      <td>0</td>\n",
       "      <td>1</td>\n",
       "    </tr>\n",
       "    <tr>\n",
       "      <th>19894</th>\n",
       "      <td>17122.0</td>\n",
       "      <td>1.0</td>\n",
       "      <td>3.0</td>\n",
       "      <td>False</td>\n",
       "      <td>True</td>\n",
       "      <td>2</td>\n",
       "      <td>1.0</td>\n",
       "      <td>1.0</td>\n",
       "      <td>0.0</td>\n",
       "      <td>30.0</td>\n",
       "      <td>...</td>\n",
       "      <td>0</td>\n",
       "      <td>0</td>\n",
       "      <td>0</td>\n",
       "      <td>0</td>\n",
       "      <td>0</td>\n",
       "      <td>0</td>\n",
       "      <td>0</td>\n",
       "      <td>1</td>\n",
       "      <td>0</td>\n",
       "      <td>0</td>\n",
       "    </tr>\n",
       "    <tr>\n",
       "      <th>4772</th>\n",
       "      <td>15527.0</td>\n",
       "      <td>0.5</td>\n",
       "      <td>1.0</td>\n",
       "      <td>True</td>\n",
       "      <td>True</td>\n",
       "      <td>2</td>\n",
       "      <td>1.0</td>\n",
       "      <td>1.0</td>\n",
       "      <td>0.0</td>\n",
       "      <td>50.0</td>\n",
       "      <td>...</td>\n",
       "      <td>0</td>\n",
       "      <td>0</td>\n",
       "      <td>0</td>\n",
       "      <td>0</td>\n",
       "      <td>0</td>\n",
       "      <td>0</td>\n",
       "      <td>1</td>\n",
       "      <td>0</td>\n",
       "      <td>1</td>\n",
       "      <td>0</td>\n",
       "    </tr>\n",
       "  </tbody>\n",
       "</table>\n",
       "<p>5 rows × 56 columns</p>\n",
       "</div>"
      ],
      "text/plain": [
       "       host_since  host_response_rate  host_listings_count  \\\n",
       "6105      15493.0                 0.0                  1.0   \n",
       "1798      16139.0                 1.0                  1.0   \n",
       "14425     15832.0                 0.0                  1.0   \n",
       "19894     17122.0                 1.0                  3.0   \n",
       "4772      15527.0                 0.5                  1.0   \n",
       "\n",
       "       host_identity_verified  is_location_exact  accommodates  bathrooms  \\\n",
       "6105                    False              False             4        1.0   \n",
       "1798                    False               True             2        1.0   \n",
       "14425                    True               True             2        1.0   \n",
       "19894                   False               True             2        1.0   \n",
       "4772                     True               True             2        1.0   \n",
       "\n",
       "       bedrooms  security_deposit  cleaning_fee  ...  \\\n",
       "6105        2.0             200.0          20.0  ...   \n",
       "1798        1.0               0.0           0.0  ...   \n",
       "14425       1.0             250.0          30.0  ...   \n",
       "19894       1.0               0.0          30.0  ...   \n",
       "4772        1.0               0.0          50.0  ...   \n",
       "\n",
       "       property_type_Bed and breakfast  property_type_Boat  \\\n",
       "6105                                 0                   0   \n",
       "1798                                 0                   0   \n",
       "14425                                0                   0   \n",
       "19894                                0                   0   \n",
       "4772                                 0                   0   \n",
       "\n",
       "       property_type_Condominium  property_type_House  property_type_Loft  \\\n",
       "6105                           0                    0                   0   \n",
       "1798                           0                    0                   0   \n",
       "14425                          0                    0                   0   \n",
       "19894                          0                    0                   0   \n",
       "4772                           0                    0                   0   \n",
       "\n",
       "       property_type_Townhouse  room_type_Entire home/apt  \\\n",
       "6105                         0                          1   \n",
       "1798                         0                          0   \n",
       "14425                        0                          0   \n",
       "19894                        0                          0   \n",
       "4772                         0                          1   \n",
       "\n",
       "       cancellation_policy_flexible  cancellation_policy_moderate  \\\n",
       "6105                              1                             0   \n",
       "1798                              0                             0   \n",
       "14425                             0                             0   \n",
       "19894                             1                             0   \n",
       "4772                              0                             1   \n",
       "\n",
       "       cancellation_policy_strict_14_with_grace_period  \n",
       "6105                                                 0  \n",
       "1798                                                 1  \n",
       "14425                                                1  \n",
       "19894                                                0  \n",
       "4772                                                 0  \n",
       "\n",
       "[5 rows x 56 columns]"
      ]
     },
     "execution_count": 45,
     "metadata": {},
     "output_type": "execute_result"
    }
   ],
   "source": [
    "train_features.head()"
   ]
  },
  {
   "cell_type": "code",
   "execution_count": 46,
   "metadata": {},
   "outputs": [],
   "source": [
    "from sklearn.feature_selection import SelectKBest\n",
    "from sklearn.feature_selection import f_regression"
   ]
  },
  {
   "cell_type": "code",
   "execution_count": 47,
   "metadata": {},
   "outputs": [],
   "source": [
    "import seaborn as sns\n",
    "import matplotlib.pyplot as plt"
   ]
  },
  {
   "cell_type": "code",
   "execution_count": 48,
   "metadata": {},
   "outputs": [
    {
     "data": {
      "text/plain": [
       "<Figure size 864x864 with 0 Axes>"
      ]
     },
     "metadata": {},
     "output_type": "display_data"
    }
   ],
   "source": [
    "plt.rcParams[\"figure.figsize\"] = (12,12)\n",
    "plt.subplots_adjust(top = 1.5,hspace = 3.0)"
   ]
  },
  {
   "cell_type": "code",
   "execution_count": 49,
   "metadata": {},
   "outputs": [
    {
     "name": "stdout",
     "output_type": "stream",
     "text": [
      "                                              Specs        Score\n",
      "5                                      accommodates  7935.090420\n",
      "7                                          bedrooms  6644.360816\n",
      "9                                      cleaning_fee  2705.841397\n",
      "6                                         bathrooms  2243.109269\n",
      "52                        room_type_Entire home/apt  2054.141141\n",
      "10                                  guests_included  1404.526550\n",
      "8                                  security_deposit  1054.541438\n",
      "14                                  availability_30   870.284338\n",
      "32              neighbourhood_cleansed_Centrum-West   527.378998\n",
      "15                                 availability_365   497.146735\n",
      "45                          property_type_Apartment   367.667806\n",
      "55  cancellation_policy_strict_14_with_grace_period   337.721072\n",
      "31              neighbourhood_cleansed_Centrum-Oost   297.159803\n",
      "21                                   amenity_washer   259.242008\n",
      "22                                    amenity_dryer   208.351662\n",
      "11                                     extra_people   172.742022\n",
      "47                               property_type_Boat   162.266841\n",
      "51                          property_type_Townhouse   161.181702\n",
      "29             neighbourhood_cleansed_Bos en Lommer   159.489197\n",
      "50                               property_type_Loft   131.023783\n"
     ]
    }
   ],
   "source": [
    "# to get an idea of best features to influence the price\n",
    "features = pd.concat([train_features, test_features], ignore_index=True)\n",
    "values = pd.concat([train_values, test_values], ignore_index=True)\n",
    "fs = SelectKBest(score_func=f_regression, k=20)\n",
    "# apply feature selection\n",
    "features_selected = fs.fit(features, values)\n",
    "dfscores = pd.DataFrame(features_selected.scores_)\n",
    "dfcolumns = pd.DataFrame(features.columns)\n",
    "#concat two dataframes for better visualization \n",
    "featureScores = pd.concat([dfcolumns,dfscores],axis=1)\n",
    "featureScores.columns = ['Specs','Score']  #naming the dataframe columns\n",
    "print(featureScores.nlargest(20,'Score'))  #print 20 best features"
   ]
  },
  {
   "cell_type": "code",
   "execution_count": 51,
   "metadata": {},
   "outputs": [],
   "source": [
    "# scale data\n",
    "from sklearn.preprocessing import StandardScaler\n",
    "sc = StandardScaler()\n",
    "train_features = sc.fit_transform(train_features)\n",
    "test_features  = sc.fit_transform(test_features)"
   ]
  },
  {
   "cell_type": "markdown",
   "metadata": {},
   "source": [
    "# Models and Prediction"
   ]
  },
  {
   "cell_type": "markdown",
   "metadata": {},
   "source": [
    "## Compare prediction from different regression models to choose the best one\n",
    "    \n",
    "    * K - Nearest Neighbors\n",
    "    * XGBoost (Gradient boosted trees)\n",
    "    * Neural Net\n",
    "    * Support Vector Regression (SVR)\n",
    "    * Random Forest Regression\n",
    "    \n",
    "Please find the comparison results below"
   ]
  },
  {
   "cell_type": "code",
   "execution_count": 52,
   "metadata": {},
   "outputs": [],
   "source": [
    "## KNN\n",
    "from sklearn.neighbors import KNeighborsRegressor\n",
    "knn = KNeighborsRegressor(algorithm='brute')\n",
    "knn.fit(train_features, train_values)\n",
    "y_pred = knn.predict(test_features)"
   ]
  },
  {
   "cell_type": "code",
   "execution_count": 53,
   "metadata": {},
   "outputs": [
    {
     "name": "stdout",
     "output_type": "stream",
     "text": [
      "RMSE_KNN: 63.9283\n",
      "r2_KNN: 0.3683\n"
     ]
    }
   ],
   "source": [
    "## KNN - error calculation\n",
    "from sklearn.metrics import mean_squared_error, r2_score\n",
    "RMSE = np.sqrt(mean_squared_error(test_values, y_pred))\n",
    "print(f\"RMSE_KNN: {round(RMSE, 4)}\")\n",
    "r2 = r2_score(test_values, y_pred)\n",
    "print(f\"r2_KNN: {round(r2, 4)}\")"
   ]
  },
  {
   "cell_type": "code",
   "execution_count": 55,
   "metadata": {},
   "outputs": [],
   "source": [
    "## XgBoost\n",
    "import xgboost  as xgb\n",
    "model = xgb.XGBRegressor()"
   ]
  },
  {
   "cell_type": "code",
   "execution_count": 56,
   "metadata": {},
   "outputs": [
    {
     "name": "stdout",
     "output_type": "stream",
     "text": [
      "{'colsample_bytree': 0.6, 'gamma': 0.2, 'learning_rate': 0.1, 'max_depth': 6, 'n_estimators': 200}\n"
     ]
    }
   ],
   "source": [
    "## hyper parameter tuning with Grid Search Cross Validation\n",
    "#from sklearn.model_selection import GridSearchCV\n",
    "\n",
    "# create Grid\n",
    "#param_grid = {'n_estimators': [100, 150, 200],\n",
    "#              'learning_rate': [0.01, 0.05, 0.1], \n",
    "#              'max_depth': [3, 4, 5, 6, 7],\n",
    "#              'colsample_bytree': [0.6, 0.7, 1],\n",
    "#              'gamma': [0.0, 0.1, 0.2]}\n",
    "\n",
    "# instantiate the tuned random forest\n",
    "#booster_grid_search = GridSearchCV(model, param_grid, cv=3, n_jobs=-1)\n",
    "\n",
    "# train the tuned random forest\n",
    "#booster_grid_search.fit(train_features, train_values)\n",
    "\n",
    "# print best estimator parameters found during the grid search\n",
    "#print(booster_grid_search.best_params_)"
   ]
  },
  {
   "cell_type": "code",
   "execution_count": 57,
   "metadata": {},
   "outputs": [
    {
     "name": "stdout",
     "output_type": "stream",
     "text": [
      "RMSE_XGB: 54.3626\n",
      "r2_XGB: 0.5432\n"
     ]
    }
   ],
   "source": [
    "## xgb prediction and error calculation\n",
    "model = xgb.XGBRegressor(colsample_bytree= 0.6, gamma= 0.2, learning_rate= 0.1, max_depth= 6, n_estimators= 200)\n",
    "model.fit(train_features, train_values)\n",
    "# make predictions for test data and evaluate\n",
    "y_pred = model.predict(test_features)\n",
    "RMSE = np.sqrt(mean_squared_error(test_values, y_pred))\n",
    "print(f\"RMSE_XGB: {round(RMSE, 4)}\")\n",
    "r2 = r2_score(test_values, y_pred)\n",
    "print(f\"r2_XGB: {round(r2, 4)}\")"
   ]
  },
  {
   "cell_type": "code",
   "execution_count": 58,
   "metadata": {},
   "outputs": [
    {
     "data": {
      "image/png": "[encoded data removed]",
      "text/plain": [
       "<Figure size 720x360 with 1 Axes>"
      ]
     },
     "metadata": {
      "needs_background": "light"
     },
     "output_type": "display_data"
    }
   ],
   "source": [
    "# plot the important features\n",
    "feat_importances = pd.Series(model.feature_importances_, index=features.columns)\n",
    "feat_importances.nlargest(15).sort_values().plot(kind='barh', color='darkgrey', figsize=(10,5))\n",
    "plt.xlabel('Relative Feature Importance with XGBoost');"
   ]
  },
  {
   "cell_type": "code",
   "execution_count": 60,
   "metadata": {},
   "outputs": [],
   "source": [
    "# to check for error(rmse) development\n",
    "xg_train = xgb.DMatrix(data=train_features, label=train_values)\n",
    "params = {'colsample_bytree': 0.6, 'gamma': 0.2, 'learning_rate': 0.1, 'max_depth': 6, 'n_estimators': 200}\n",
    "\n",
    "cv_results = xgb.cv(dtrain=xg_train, params=params, nfold=3,\n",
    "                    num_boost_round=200, early_stopping_rounds=10, \n",
    "                    metrics=\"rmse\", as_pandas=True)"
   ]
  },
  {
   "cell_type": "code",
   "execution_count": 61,
   "metadata": {},
   "outputs": [
    {
     "data": {
      "text/html": [
       "<div>\n",
       "<style scoped>\n",
       "    .dataframe tbody tr th:only-of-type {\n",
       "        vertical-align: middle;\n",
       "    }\n",
       "\n",
       "    .dataframe tbody tr th {\n",
       "        vertical-align: top;\n",
       "    }\n",
       "\n",
       "    .dataframe thead th {\n",
       "        text-align: right;\n",
       "    }\n",
       "</style>\n",
       "<table border=\"1\" class=\"dataframe\">\n",
       "  <thead>\n",
       "    <tr style=\"text-align: right;\">\n",
       "      <th></th>\n",
       "      <th>train-rmse-mean</th>\n",
       "      <th>train-rmse-std</th>\n",
       "      <th>test-rmse-mean</th>\n",
       "      <th>test-rmse-std</th>\n",
       "    </tr>\n",
       "  </thead>\n",
       "  <tbody>\n",
       "    <tr>\n",
       "      <th>0</th>\n",
       "      <td>148.821900</td>\n",
       "      <td>1.440843</td>\n",
       "      <td>148.948827</td>\n",
       "      <td>3.047133</td>\n",
       "    </tr>\n",
       "    <tr>\n",
       "      <th>1</th>\n",
       "      <td>136.570307</td>\n",
       "      <td>1.763643</td>\n",
       "      <td>136.809779</td>\n",
       "      <td>2.696876</td>\n",
       "    </tr>\n",
       "    <tr>\n",
       "      <th>2</th>\n",
       "      <td>125.482346</td>\n",
       "      <td>1.563632</td>\n",
       "      <td>125.957189</td>\n",
       "      <td>2.857103</td>\n",
       "    </tr>\n",
       "    <tr>\n",
       "      <th>3</th>\n",
       "      <td>115.570508</td>\n",
       "      <td>1.514132</td>\n",
       "      <td>116.266698</td>\n",
       "      <td>2.868219</td>\n",
       "    </tr>\n",
       "    <tr>\n",
       "      <th>4</th>\n",
       "      <td>106.751747</td>\n",
       "      <td>1.400588</td>\n",
       "      <td>107.664698</td>\n",
       "      <td>2.995727</td>\n",
       "    </tr>\n",
       "  </tbody>\n",
       "</table>\n",
       "</div>"
      ],
      "text/plain": [
       "   train-rmse-mean  train-rmse-std  test-rmse-mean  test-rmse-std\n",
       "0       148.821900        1.440843      148.948827       3.047133\n",
       "1       136.570307        1.763643      136.809779       2.696876\n",
       "2       125.482346        1.563632      125.957189       2.857103\n",
       "3       115.570508        1.514132      116.266698       2.868219\n",
       "4       106.751747        1.400588      107.664698       2.995727"
      ]
     },
     "execution_count": 61,
     "metadata": {},
     "output_type": "execute_result"
    }
   ],
   "source": [
    "cv_results.head()"
   ]
  },
  {
   "cell_type": "code",
   "execution_count": 62,
   "metadata": {},
   "outputs": [
    {
     "data": {
      "text/html": [
       "<div>\n",
       "<style scoped>\n",
       "    .dataframe tbody tr th:only-of-type {\n",
       "        vertical-align: middle;\n",
       "    }\n",
       "\n",
       "    .dataframe tbody tr th {\n",
       "        vertical-align: top;\n",
       "    }\n",
       "\n",
       "    .dataframe thead th {\n",
       "        text-align: right;\n",
       "    }\n",
       "</style>\n",
       "<table border=\"1\" class=\"dataframe\">\n",
       "  <thead>\n",
       "    <tr style=\"text-align: right;\">\n",
       "      <th></th>\n",
       "      <th>train-rmse-mean</th>\n",
       "      <th>train-rmse-std</th>\n",
       "      <th>test-rmse-mean</th>\n",
       "      <th>test-rmse-std</th>\n",
       "    </tr>\n",
       "  </thead>\n",
       "  <tbody>\n",
       "    <tr>\n",
       "      <th>157</th>\n",
       "      <td>33.360871</td>\n",
       "      <td>0.480469</td>\n",
       "      <td>50.092203</td>\n",
       "      <td>1.898031</td>\n",
       "    </tr>\n",
       "    <tr>\n",
       "      <th>158</th>\n",
       "      <td>33.307073</td>\n",
       "      <td>0.483915</td>\n",
       "      <td>50.092986</td>\n",
       "      <td>1.888018</td>\n",
       "    </tr>\n",
       "    <tr>\n",
       "      <th>159</th>\n",
       "      <td>33.273902</td>\n",
       "      <td>0.481450</td>\n",
       "      <td>50.090381</td>\n",
       "      <td>1.885192</td>\n",
       "    </tr>\n",
       "    <tr>\n",
       "      <th>160</th>\n",
       "      <td>33.221201</td>\n",
       "      <td>0.470995</td>\n",
       "      <td>50.090128</td>\n",
       "      <td>1.882343</td>\n",
       "    </tr>\n",
       "    <tr>\n",
       "      <th>161</th>\n",
       "      <td>33.196995</td>\n",
       "      <td>0.457995</td>\n",
       "      <td>50.088092</td>\n",
       "      <td>1.884207</td>\n",
       "    </tr>\n",
       "  </tbody>\n",
       "</table>\n",
       "</div>"
      ],
      "text/plain": [
       "     train-rmse-mean  train-rmse-std  test-rmse-mean  test-rmse-std\n",
       "157        33.360871        0.480469       50.092203       1.898031\n",
       "158        33.307073        0.483915       50.092986       1.888018\n",
       "159        33.273902        0.481450       50.090381       1.885192\n",
       "160        33.221201        0.470995       50.090128       1.882343\n",
       "161        33.196995        0.457995       50.088092       1.884207"
      ]
     },
     "execution_count": 62,
     "metadata": {},
     "output_type": "execute_result"
    }
   ],
   "source": [
    "cv_results.tail()"
   ]
  },
  {
   "cell_type": "raw",
   "metadata": {},
   "source": [
    "%pip install pydot"
   ]
  },
  {
   "cell_type": "code",
   "execution_count": 63,
   "metadata": {},
   "outputs": [
    {
     "name": "stderr",
     "output_type": "stream",
     "text": [
      "Using TensorFlow backend.\n"
     ]
    },
    {
     "name": "stdout",
     "output_type": "stream",
     "text": [
      "Model: \"sequential_1\"\n",
      "_________________________________________________________________\n",
      "Layer (type)                 Output Shape              Param #   \n",
      "=================================================================\n",
      "dense_1 (Dense)              (None, 128)               7296      \n",
      "_________________________________________________________________\n",
      "dense_2 (Dense)              (None, 256)               33024     \n",
      "_________________________________________________________________\n",
      "dense_3 (Dense)              (None, 256)               65792     \n",
      "_________________________________________________________________\n",
      "dense_4 (Dense)              (None, 256)               65792     \n",
      "_________________________________________________________________\n",
      "dense_5 (Dense)              (None, 1)                 257       \n",
      "=================================================================\n",
      "Total params: 172,161\n",
      "Trainable params: 172,161\n",
      "Non-trainable params: 0\n",
      "_________________________________________________________________\n",
      "None\n",
      "Train on 13464 samples, validate on 1496 samples\n",
      "Epoch 1/150\n",
      "13464/13464 [==============================] - 0s 34us/step - loss: 141.2887 - mae: 141.2887 - val_loss: 135.8402 - val_mae: 135.8402\n",
      "Epoch 2/150\n",
      "13464/13464 [==============================] - 0s 23us/step - loss: 115.6069 - mae: 115.6069 - val_loss: 76.4439 - val_mae: 76.4439\n",
      "Epoch 3/150\n",
      "13464/13464 [==============================] - 0s 20us/step - loss: 57.0936 - mae: 57.0936 - val_loss: 50.1918 - val_mae: 50.1918\n",
      "Epoch 4/150\n",
      "13464/13464 [==============================] - 0s 21us/step - loss: 47.5134 - mae: 47.5134 - val_loss: 45.3891 - val_mae: 45.3891\n",
      "Epoch 5/150\n",
      "13464/13464 [==============================] - 0s 19us/step - loss: 43.4501 - mae: 43.4501 - val_loss: 42.5366 - val_mae: 42.5366\n",
      "Epoch 6/150\n",
      "13464/13464 [==============================] - 0s 24us/step - loss: 40.8528 - mae: 40.8528 - val_loss: 40.6381 - val_mae: 40.6381\n",
      "Epoch 7/150\n",
      "13464/13464 [==============================] - 0s 21us/step - loss: 39.1441 - mae: 39.1441 - val_loss: 39.4604 - val_mae: 39.4604\n",
      "Epoch 8/150\n",
      "13464/13464 [==============================] - 0s 23us/step - loss: 38.0735 - mae: 38.0735 - val_loss: 38.6569 - val_mae: 38.6569\n",
      "Epoch 9/150\n",
      "13464/13464 [==============================] - 0s 24us/step - loss: 37.3254 - mae: 37.3254 - val_loss: 38.1304 - val_mae: 38.1304\n",
      "Epoch 10/150\n",
      "13464/13464 [==============================] - 0s 21us/step - loss: 36.8771 - mae: 36.8771 - val_loss: 37.7462 - val_mae: 37.7462\n",
      "Epoch 11/150\n",
      "13464/13464 [==============================] - 0s 22us/step - loss: 36.5927 - mae: 36.5927 - val_loss: 37.5313 - val_mae: 37.5313\n",
      "Epoch 12/150\n",
      "13464/13464 [==============================] - 0s 24us/step - loss: 36.3716 - mae: 36.3716 - val_loss: 37.2917 - val_mae: 37.2917\n",
      "Epoch 13/150\n",
      "13464/13464 [==============================] - 0s 19us/step - loss: 36.2075 - mae: 36.2076 - val_loss: 37.1393 - val_mae: 37.1392\n",
      "Epoch 14/150\n",
      "13464/13464 [==============================] - 0s 21us/step - loss: 36.0763 - mae: 36.0763 - val_loss: 37.0000 - val_mae: 37.0000\n",
      "Epoch 15/150\n",
      "13464/13464 [==============================] - 0s 19us/step - loss: 35.9151 - mae: 35.9151 - val_loss: 36.8712 - val_mae: 36.8712\n",
      "Epoch 16/150\n",
      "13464/13464 [==============================] - 0s 22us/step - loss: 35.7845 - mae: 35.7845 - val_loss: 36.7593 - val_mae: 36.7593\n",
      "Epoch 17/150\n",
      "13464/13464 [==============================] - 0s 19us/step - loss: 35.6837 - mae: 35.6837 - val_loss: 36.6656 - val_mae: 36.6656\n",
      "Epoch 18/150\n",
      "13464/13464 [==============================] - 0s 21us/step - loss: 35.5883 - mae: 35.5883 - val_loss: 36.6284 - val_mae: 36.6284\n",
      "Epoch 19/150\n",
      "13464/13464 [==============================] - 0s 19us/step - loss: 35.4894 - mae: 35.4894 - val_loss: 36.4652 - val_mae: 36.4652\n",
      "Epoch 20/150\n",
      "13464/13464 [==============================] - 0s 19us/step - loss: 35.4086 - mae: 35.4086 - val_loss: 36.4120 - val_mae: 36.4120\n",
      "Epoch 21/150\n",
      "13464/13464 [==============================] - 0s 21us/step - loss: 35.3181 - mae: 35.3181 - val_loss: 36.3298 - val_mae: 36.3298\n",
      "Epoch 22/150\n",
      "13464/13464 [==============================] - 0s 19us/step - loss: 35.2184 - mae: 35.2184 - val_loss: 36.2586 - val_mae: 36.2586\n",
      "Epoch 23/150\n",
      "13464/13464 [==============================] - 0s 22us/step - loss: 35.1300 - mae: 35.1301 - val_loss: 36.2124 - val_mae: 36.2123\n",
      "Epoch 24/150\n",
      "13464/13464 [==============================] - 0s 19us/step - loss: 35.0253 - mae: 35.0253 - val_loss: 36.1031 - val_mae: 36.1031\n",
      "Epoch 25/150\n",
      "13464/13464 [==============================] - 0s 22us/step - loss: 34.9480 - mae: 34.9480 - val_loss: 36.0530 - val_mae: 36.0530\n",
      "Epoch 26/150\n",
      "13464/13464 [==============================] - 0s 23us/step - loss: 34.8590 - mae: 34.8590 - val_loss: 36.0494 - val_mae: 36.0494\n",
      "Epoch 27/150\n",
      "13464/13464 [==============================] - 0s 21us/step - loss: 34.7977 - mae: 34.7977 - val_loss: 35.9450 - val_mae: 35.9450\n",
      "Epoch 28/150\n",
      "13464/13464 [==============================] - 0s 20us/step - loss: 34.6842 - mae: 34.6842 - val_loss: 35.8805 - val_mae: 35.8805\n",
      "Epoch 29/150\n",
      "13464/13464 [==============================] - 0s 21us/step - loss: 34.6209 - mae: 34.6209 - val_loss: 35.8289 - val_mae: 35.8289\n",
      "Epoch 30/150\n",
      "13464/13464 [==============================] - 0s 21us/step - loss: 34.5777 - mae: 34.5777 - val_loss: 35.8058 - val_mae: 35.8058\n",
      "Epoch 31/150\n",
      "13464/13464 [==============================] - 0s 23us/step - loss: 34.4643 - mae: 34.4643 - val_loss: 35.7961 - val_mae: 35.7961\n",
      "Epoch 32/150\n",
      "13464/13464 [==============================] - 0s 21us/step - loss: 34.3859 - mae: 34.3859 - val_loss: 35.7408 - val_mae: 35.7408\n",
      "Epoch 33/150\n",
      "13464/13464 [==============================] - 0s 22us/step - loss: 34.3283 - mae: 34.3283 - val_loss: 35.7109 - val_mae: 35.7109\n",
      "Epoch 34/150\n",
      "13464/13464 [==============================] - 0s 21us/step - loss: 34.2569 - mae: 34.2569 - val_loss: 35.6761 - val_mae: 35.6761\n",
      "Epoch 35/150\n",
      "13464/13464 [==============================] - 0s 21us/step - loss: 34.1588 - mae: 34.1588 - val_loss: 35.6931 - val_mae: 35.6931\n",
      "Epoch 36/150\n",
      "13464/13464 [==============================] - 0s 23us/step - loss: 34.1228 - mae: 34.1228 - val_loss: 35.6340 - val_mae: 35.6340\n",
      "Epoch 37/150\n",
      "13464/13464 [==============================] - 0s 23us/step - loss: 34.0356 - mae: 34.0356 - val_loss: 35.6197 - val_mae: 35.6197\n",
      "Epoch 38/150\n",
      "13464/13464 [==============================] - 0s 20us/step - loss: 33.9741 - mae: 33.9741 - val_loss: 35.5942 - val_mae: 35.5942\n",
      "Epoch 39/150\n",
      "13464/13464 [==============================] - 0s 22us/step - loss: 33.9188 - mae: 33.9188 - val_loss: 35.5825 - val_mae: 35.5825\n",
      "Epoch 40/150\n",
      "13464/13464 [==============================] - 0s 21us/step - loss: 33.8480 - mae: 33.8480 - val_loss: 35.5421 - val_mae: 35.5421\n",
      "Epoch 41/150\n",
      "13464/13464 [==============================] - 0s 20us/step - loss: 33.7310 - mae: 33.7310 - val_loss: 35.5991 - val_mae: 35.5991\n",
      "Epoch 42/150\n",
      "13464/13464 [==============================] - 0s 20us/step - loss: 33.7406 - mae: 33.7406 - val_loss: 35.5086 - val_mae: 35.5086\n",
      "Epoch 43/150\n",
      "13464/13464 [==============================] - 0s 20us/step - loss: 33.6018 - mae: 33.6018 - val_loss: 35.4949 - val_mae: 35.4949\n",
      "Epoch 44/150\n",
      "13464/13464 [==============================] - 0s 20us/step - loss: 33.5465 - mae: 33.5465 - val_loss: 35.4986 - val_mae: 35.4986\n",
      "Epoch 45/150\n",
      "13464/13464 [==============================] - 0s 19us/step - loss: 33.4856 - mae: 33.4856 - val_loss: 35.4684 - val_mae: 35.4684\n",
      "Epoch 46/150\n",
      "13464/13464 [==============================] - 0s 19us/step - loss: 33.3924 - mae: 33.3924 - val_loss: 35.4705 - val_mae: 35.4705\n",
      "Epoch 47/150\n",
      "13464/13464 [==============================] - 0s 20us/step - loss: 33.3536 - mae: 33.3536 - val_loss: 35.7346 - val_mae: 35.7346\n",
      "Epoch 48/150\n",
      "13464/13464 [==============================] - 0s 21us/step - loss: 33.2871 - mae: 33.2871 - val_loss: 35.4715 - val_mae: 35.4715\n",
      "Epoch 49/150\n",
      "13464/13464 [==============================] - 0s 21us/step - loss: 33.1917 - mae: 33.1917 - val_loss: 35.4199 - val_mae: 35.4199\n",
      "Epoch 50/150\n",
      "13464/13464 [==============================] - 0s 20us/step - loss: 33.1360 - mae: 33.1360 - val_loss: 35.4306 - val_mae: 35.4306\n"
     ]
    },
    {
     "name": "stdout",
     "output_type": "stream",
     "text": [
      "Epoch 51/150\n",
      "13464/13464 [==============================] - 0s 20us/step - loss: 33.0884 - mae: 33.0884 - val_loss: 35.4556 - val_mae: 35.4556\n",
      "Epoch 52/150\n",
      "13464/13464 [==============================] - 0s 19us/step - loss: 33.0075 - mae: 33.0075 - val_loss: 35.4370 - val_mae: 35.4370\n",
      "Epoch 53/150\n",
      "13464/13464 [==============================] - 0s 19us/step - loss: 32.9134 - mae: 32.9134 - val_loss: 35.4311 - val_mae: 35.4311\n",
      "Epoch 54/150\n",
      "13464/13464 [==============================] - 0s 22us/step - loss: 32.8296 - mae: 32.8296 - val_loss: 35.3986 - val_mae: 35.3986\n",
      "Epoch 55/150\n",
      "13464/13464 [==============================] - 0s 19us/step - loss: 32.7816 - mae: 32.7816 - val_loss: 35.4085 - val_mae: 35.4085\n",
      "Epoch 56/150\n",
      "13464/13464 [==============================] - 0s 19us/step - loss: 32.7121 - mae: 32.7121 - val_loss: 35.3852 - val_mae: 35.3852\n",
      "Epoch 57/150\n",
      "13464/13464 [==============================] - 0s 19us/step - loss: 32.6459 - mae: 32.6459 - val_loss: 35.3796 - val_mae: 35.3796\n",
      "Epoch 58/150\n",
      "13464/13464 [==============================] - 0s 26us/step - loss: 32.5591 - mae: 32.5591 - val_loss: 35.3613 - val_mae: 35.3613\n",
      "Epoch 59/150\n",
      "13464/13464 [==============================] - 0s 24us/step - loss: 32.4814 - mae: 32.4814 - val_loss: 35.4213 - val_mae: 35.4213\n",
      "Epoch 60/150\n",
      "13464/13464 [==============================] - 0s 26us/step - loss: 32.4335 - mae: 32.4335 - val_loss: 35.4111 - val_mae: 35.4111\n",
      "Epoch 61/150\n",
      "13464/13464 [==============================] - 0s 23us/step - loss: 32.3542 - mae: 32.3542 - val_loss: 35.4793 - val_mae: 35.4793\n",
      "Epoch 62/150\n",
      "13464/13464 [==============================] - 0s 25us/step - loss: 32.2833 - mae: 32.2833 - val_loss: 35.3675 - val_mae: 35.3675\n",
      "Epoch 63/150\n",
      "13464/13464 [==============================] - 0s 25us/step - loss: 32.2017 - mae: 32.2017 - val_loss: 35.3758 - val_mae: 35.3758\n",
      "Epoch 64/150\n",
      "13464/13464 [==============================] - 0s 24us/step - loss: 32.1731 - mae: 32.1731 - val_loss: 35.4337 - val_mae: 35.4337\n",
      "Epoch 65/150\n",
      "13464/13464 [==============================] - 0s 24us/step - loss: 32.0446 - mae: 32.0446 - val_loss: 35.4199 - val_mae: 35.4199\n",
      "Epoch 66/150\n",
      "13464/13464 [==============================] - 0s 24us/step - loss: 31.9848 - mae: 31.9848 - val_loss: 35.4391 - val_mae: 35.4391\n",
      "Epoch 67/150\n",
      "13464/13464 [==============================] - 0s 24us/step - loss: 31.9050 - mae: 31.9050 - val_loss: 35.3843 - val_mae: 35.3843\n",
      "Epoch 68/150\n",
      "13464/13464 [==============================] - 0s 23us/step - loss: 31.8807 - mae: 31.8807 - val_loss: 35.3591 - val_mae: 35.3591\n",
      "Epoch 69/150\n",
      "13464/13464 [==============================] - 0s 22us/step - loss: 31.7911 - mae: 31.7911 - val_loss: 35.3831 - val_mae: 35.3831\n",
      "Epoch 70/150\n",
      "13464/13464 [==============================] - 0s 29us/step - loss: 31.7105 - mae: 31.7105 - val_loss: 35.3561 - val_mae: 35.3561\n",
      "Epoch 71/150\n",
      "13464/13464 [==============================] - 0s 26us/step - loss: 31.6089 - mae: 31.6089 - val_loss: 35.3212 - val_mae: 35.3212\n",
      "Epoch 72/150\n",
      "13464/13464 [==============================] - 0s 28us/step - loss: 31.6127 - mae: 31.6127 - val_loss: 35.4591 - val_mae: 35.4591\n",
      "Epoch 73/150\n",
      "13464/13464 [==============================] - 0s 28us/step - loss: 31.5304 - mae: 31.5304 - val_loss: 35.3926 - val_mae: 35.3926\n",
      "Epoch 74/150\n",
      "13464/13464 [==============================] - 0s 28us/step - loss: 31.4900 - mae: 31.4900 - val_loss: 35.4504 - val_mae: 35.4504\n",
      "Epoch 75/150\n",
      "13464/13464 [==============================] - 0s 27us/step - loss: 31.3845 - mae: 31.3845 - val_loss: 35.3380 - val_mae: 35.3380\n",
      "Epoch 76/150\n",
      "13464/13464 [==============================] - 0s 26us/step - loss: 31.2806 - mae: 31.2806 - val_loss: 35.3272 - val_mae: 35.3272\n",
      "Epoch 77/150\n",
      "13464/13464 [==============================] - 0s 27us/step - loss: 31.2060 - mae: 31.2060 - val_loss: 35.3417 - val_mae: 35.3417\n",
      "Epoch 78/150\n",
      "13464/13464 [==============================] - 0s 27us/step - loss: 31.1400 - mae: 31.1400 - val_loss: 35.3262 - val_mae: 35.3262\n",
      "Epoch 79/150\n",
      "13464/13464 [==============================] - 0s 30us/step - loss: 31.0952 - mae: 31.0952 - val_loss: 35.3750 - val_mae: 35.3750\n",
      "Epoch 80/150\n",
      "13464/13464 [==============================] - 0s 29us/step - loss: 31.0517 - mae: 31.0517 - val_loss: 35.3884 - val_mae: 35.3884\n",
      "Epoch 81/150\n",
      "13464/13464 [==============================] - 0s 30us/step - loss: 30.9542 - mae: 30.9542 - val_loss: 35.3544 - val_mae: 35.3544\n"
     ]
    },
    {
     "data": {
      "text/plain": [
       "<keras.callbacks.callbacks.History at 0x18d405a4080>"
      ]
     },
     "execution_count": 63,
     "metadata": {},
     "output_type": "execute_result"
    }
   ],
   "source": [
    "## Neural Net \n",
    "from keras import models, layers, optimizers, regularizers, callbacks\n",
    "\n",
    "# Building the model\n",
    "nn2 = models.Sequential()\n",
    "nn2.add(layers.Dense(128, input_shape=(train_features.shape[1],), activation='relu'))\n",
    "nn2.add(layers.Dense(256, activation='relu'))\n",
    "nn2.add(layers.Dense(256, activation='relu'))\n",
    "nn2.add(layers.Dense(256, activation='relu'))\n",
    "nn2.add(layers.Dense(1, activation='linear'))\n",
    "\n",
    "# Compiling the model\n",
    "nn2.compile(\n",
    "    optimizer=optimizers.Adam(0.0001),\n",
    "    loss = 'mae',\n",
    "    metrics = ['mae'])\n",
    "\n",
    "# Printing the model summary\n",
    "print(nn2.summary())\n",
    "\n",
    "# Visualising the neural network\n",
    "#SVG(model_to_dot(nn2, show_layer_names=False, show_shapes=True).create(prog='dot', format='svg'))\n",
    "early_stop = callbacks.EarlyStopping(\n",
    "  monitor='val_mae',\n",
    "  mode=\"min\",\n",
    "  patience=10\n",
    ")\n",
    "# Training the model\n",
    "nn2.fit(train_features,\n",
    "        train_values,\n",
    "        epochs=150,\n",
    "        batch_size=256,\n",
    "        validation_split = 0.1,\n",
    "        callbacks=[early_stop])"
   ]
  },
  {
   "cell_type": "code",
   "execution_count": 64,
   "metadata": {},
   "outputs": [
    {
     "name": "stdout",
     "output_type": "stream",
     "text": [
      "mse_NN 3061.530902255595\n",
      "rmse_NN 55.33110248545202\n",
      "r2_NN 0.5268131698882663\n"
     ]
    }
   ],
   "source": [
    "## neural net prediction and error calculation\n",
    "y_pred = nn2.predict(test_features)\n",
    "from math import sqrt\n",
    "print(f'mse_NN {mean_squared_error(test_values, y_pred)}')\n",
    "print(f'rmse_NN {np.sqrt(mean_squared_error(test_values, y_pred))}')\n",
    "print(f'r2_NN {r2_score(test_values, y_pred)}')"
   ]
  },
  {
   "cell_type": "code",
   "execution_count": 65,
   "metadata": {},
   "outputs": [
    {
     "data": {
      "text/plain": [
       "SVR(C=1.0, cache_size=200, coef0=0.0, degree=3, epsilon=0.1,\n",
       "  gamma='auto_deprecated', kernel='rbf', max_iter=-1, shrinking=True,\n",
       "  tol=0.001, verbose=False)"
      ]
     },
     "execution_count": 65,
     "metadata": {},
     "output_type": "execute_result"
    }
   ],
   "source": [
    "# SVR\n",
    "from sklearn.svm import SVR\n",
    "regressor = SVR(kernel = 'rbf')\n",
    "#rbf = Gaussian Radial Basis Function Kernel\n",
    "regressor.fit(train_features, train_values)"
   ]
  },
  {
   "cell_type": "code",
   "execution_count": 66,
   "metadata": {},
   "outputs": [
    {
     "name": "stdout",
     "output_type": "stream",
     "text": [
      "RMSE_SVR: 67.983\n",
      "r2_SVR: 0.2857\n"
     ]
    }
   ],
   "source": [
    "## SVR prediction and error calculation\n",
    "y_pred = regressor.predict(test_features)\n",
    "RMSE = np.sqrt(mean_squared_error(test_values, y_pred))\n",
    "print(f\"RMSE_SVR: {round(RMSE, 4)}\")\n",
    "r2 = r2_score(test_values, y_pred)\n",
    "print(f\"r2_SVR: {round(r2, 4)}\")"
   ]
  },
  {
   "cell_type": "code",
   "execution_count": 67,
   "metadata": {},
   "outputs": [
    {
     "data": {
      "text/plain": [
       "RandomForestRegressor(bootstrap=False, criterion='mse', max_depth=3,\n",
       "           max_features='auto', max_leaf_nodes=None,\n",
       "           min_impurity_decrease=0.0, min_impurity_split=None,\n",
       "           min_samples_leaf=1, min_samples_split=2,\n",
       "           min_weight_fraction_leaf=0.0, n_estimators=1, n_jobs=-1,\n",
       "           oob_score=False, random_state=None, verbose=0, warm_start=False)"
      ]
     },
     "execution_count": 67,
     "metadata": {},
     "output_type": "execute_result"
    }
   ],
   "source": [
    "## Random Forest\n",
    "from sklearn.ensemble import RandomForestRegressor\n",
    "model = RandomForestRegressor(n_estimators=1, max_depth=3, bootstrap=False, n_jobs=-1)\n",
    "model.fit(train_features,train_values)"
   ]
  },
  {
   "cell_type": "code",
   "execution_count": 68,
   "metadata": {},
   "outputs": [
    {
     "name": "stdout",
     "output_type": "stream",
     "text": [
      "RMSE_RF: 65.3538\n",
      "r2_RF: 0.3399\n"
     ]
    }
   ],
   "source": [
    "## RF prediction and error calculation\n",
    "y_pred = model.predict(test_features)\n",
    "RMSE = np.sqrt(mean_squared_error(test_values, y_pred))\n",
    "print(f\"RMSE_RF: {round(RMSE, 4)}\")\n",
    "r2 = r2_score(test_values, y_pred)\n",
    "print(f\"r2_RF: {round(r2, 4)}\")"
   ]
  },
  {
   "cell_type": "markdown",
   "metadata": {},
   "source": [
    "## Prediction Comparison\n",
    "\n",
    "* KNN Regression\n",
    "    RMSE_KNN: 63.9283\n",
    "    r2_KNN: 0.3683\n",
    "* XGBoost Regression\n",
    "    RMSE_XGB: 54.3626\n",
    "    r2_XGB: 0.5432\n",
    "* NN REgression\n",
    "    rmse_NN: 55.33110248545202\n",
    "    r2_NN: 0.5268131698882663\n",
    "* SVR\n",
    "    RMSE_SVR: 67.983\n",
    "    r2_SVR: 0.2857\n",
    "* RF\n",
    "    RMSE_RF: 65.3538\n",
    "    r2_RF: 0.3399\n",
    "    \n",
    "XgBoost performs better than other models. Although, model can explain only 55% of variance, nearly 50% of variance (r-squared) are explained by features relating to size and location. So, further this model accuracy can be improved by more cleaner and enhanced data relating to size and location of accomodation and addition of more features which might explain 'price' even more (for eg., floor_number, elevator_available, view_from_window etc.,).   "
   ]
  },
  {
   "cell_type": "markdown",
   "metadata": {},
   "source": [
    "## Scaling factors\n",
    "\n",
    "* Code enhancements (right libraries and tools)\n",
    "    - for eg., use of dask, modin, tensorflow, keras etc.\n",
    "* Use of distributed frameworks\n",
    "    - eg., SparkML\n",
    "* Scale with cloud infrastructure frameworks\n",
    "    - eg., Google Cloud Platform, AWS etc.\n",
    "    - utilizing built-in functions for hyper parameter tuning etc.\n",
    "    - scaling to higher compute engines,if needed, in terms of memory and efficiency"
   ]
  }
 ],
 "metadata": {
  "kernelspec": {
   "display_name": "Python 3",
   "language": "python",
   "name": "python3"
  },
  "language_info": {
   "codemirror_mode": {
    "name": "ipython",
    "version": 3
   },
   "file_extension": ".py",
   "mimetype": "text/x-python",
   "name": "python",
   "nbconvert_exporter": "python",
   "pygments_lexer": "ipython3",
   "version": "3.7.3"
  }
 },
 "nbformat": 4,
 "nbformat_minor": 2
}
